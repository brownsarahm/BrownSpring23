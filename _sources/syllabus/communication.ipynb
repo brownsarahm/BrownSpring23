{
 "cells": [
  {
   "cell_type": "markdown",
   "id": "bc3a3ecd",
   "metadata": {},
   "source": [
    "# Course Communications"
   ]
  },
  {
   "cell_type": "code",
   "execution_count": 1,
   "id": "245f8245",
   "metadata": {
    "tags": [
     "remove-input"
    ]
   },
   "outputs": [],
   "source": [
    "import pandas as pd\n",
    "from IPython.display import display, Markdown, HTML\n",
    "pd.set_option('display.max_colwidth', 0)\n",
    "df = pd.read_csv('../_data/communication.csv')\n",
    "\n",
    "help_df = pd.read_csv('../_data/help_hours.csv')"
   ]
  },
  {
   "cell_type": "markdown",
   "id": "1d81200c",
   "metadata": {},
   "source": [
    "## Announcements\n",
    "\n",
    "Announcements will be made via GitHub Release. You can view them [online in the releases page](https://github.com/rhodyprog4ds/BrownSpring23/releases) or you can get notifications by watching the repository, choosing \"Releases\" under custom [see GitHub docs for instructions with screenshots](https://docs.github.com/en/account-and-profile/managing-subscriptions-and-notifications-on-github/setting-up-notifications/configuring-notifications#configuring-your-watch-settings-for-an-individual-repository). You can choose GitHub only or e-mail notificaiton [from the notification settings page](https://github.com/settings/notifications)\n",
    "\n",
    "## Help Hours"
   ]
  },
  {
   "cell_type": "code",
   "execution_count": 2,
   "id": "97374313",
   "metadata": {
    "tags": [
     "remove-input"
    ]
   },
   "outputs": [
    {
     "ename": "AttributeError",
     "evalue": "'Styler' object has no attribute 'hide'",
     "output_type": "error",
     "traceback": [
      "\u001b[0;31m---------------------------------------------------------------------------\u001b[0m",
      "\u001b[0;31mAttributeError\u001b[0m                            Traceback (most recent call last)",
      "\u001b[0;32m/tmp/ipykernel_2083/2404517823.py\u001b[0m in \u001b[0;36m<module>\u001b[0;34m\u001b[0m\n\u001b[0;32m----> 1\u001b[0;31m \u001b[0mhelp_df\u001b[0m\u001b[0;34m.\u001b[0m\u001b[0mstyle\u001b[0m\u001b[0;34m.\u001b[0m\u001b[0mhide\u001b[0m\u001b[0;34m(\u001b[0m\u001b[0maxis\u001b[0m\u001b[0;34m=\u001b[0m\u001b[0;34m\"index\"\u001b[0m\u001b[0;34m)\u001b[0m\u001b[0;34m\u001b[0m\u001b[0;34m\u001b[0m\u001b[0m\n\u001b[0m",
      "\u001b[0;31mAttributeError\u001b[0m: 'Styler' object has no attribute 'hide'"
     ]
    }
   ],
   "source": [
    "help_df.style.hide(axis=\"index\")"
   ]
  },
  {
   "cell_type": "markdown",
   "id": "41dc1b15",
   "metadata": {},
   "source": [
    "We have several different ways to communicate in this course. This section summarizes them\n",
    "\n",
    "\n",
    "## To reach out, By usage"
   ]
  },
  {
   "cell_type": "code",
   "execution_count": 3,
   "id": "902afc34",
   "metadata": {
    "tags": [
     "remove-input"
    ]
   },
   "outputs": [
    {
     "data": {
      "text/html": [
       "<style type=\"text/css\">\n",
       "</style>\n",
       "<table id=\"T_fa8a2_\">\n",
       "  <thead>\n",
       "    <tr>\n",
       "      <th class=\"col_heading level0 col0\" >usage</th>\n",
       "      <th class=\"col_heading level0 col1\" >platform</th>\n",
       "      <th class=\"col_heading level0 col2\" >area</th>\n",
       "      <th class=\"col_heading level0 col3\" >note</th>\n",
       "    </tr>\n",
       "  </thead>\n",
       "  <tbody>\n",
       "    <tr>\n",
       "      <td id=\"T_fa8a2_row0_col0\" class=\"data row0 col0\" > in class</td>\n",
       "      <td id=\"T_fa8a2_row0_col1\" class=\"data row0 col1\" >prismia</td>\n",
       "      <td id=\"T_fa8a2_row0_col2\" class=\"data row0 col2\" > chat</td>\n",
       "      <td id=\"T_fa8a2_row0_col3\" class=\"data row0 col3\" > outside of class time this is not monitored closely</td>\n",
       "    </tr>\n",
       "    <tr>\n",
       "      <td id=\"T_fa8a2_row1_col0\" class=\"data row1 col0\" > any time </td>\n",
       "      <td id=\"T_fa8a2_row1_col1\" class=\"data row1 col1\" >prismia</td>\n",
       "      <td id=\"T_fa8a2_row1_col2\" class=\"data row1 col2\" > download transcript</td>\n",
       "      <td id=\"T_fa8a2_row1_col3\" class=\"data row1 col3\" > use after class to get preliminary notes eg if you miss a class</td>\n",
       "    </tr>\n",
       "    <tr>\n",
       "      <td id=\"T_fa8a2_row2_col0\" class=\"data row2 col0\" > private questions to your assignment</td>\n",
       "      <td id=\"T_fa8a2_row2_col1\" class=\"data row2 col1\" >github</td>\n",
       "      <td id=\"T_fa8a2_row2_col2\" class=\"data row2 col2\" > issue on assignment repo</td>\n",
       "      <td id=\"T_fa8a2_row2_col3\" class=\"data row2 col3\" > eg bugs in your code\"</td>\n",
       "    </tr>\n",
       "    <tr>\n",
       "      <td id=\"T_fa8a2_row3_col0\" class=\"data row3 col0\" > for general questions that can help others</td>\n",
       "      <td id=\"T_fa8a2_row3_col1\" class=\"data row3 col1\" >github</td>\n",
       "      <td id=\"T_fa8a2_row3_col2\" class=\"data row3 col2\" > issue on course website</td>\n",
       "      <td id=\"T_fa8a2_row3_col3\" class=\"data row3 col3\" > eg what the instructions of an assignment mean or questions about the syllabus</td>\n",
       "    </tr>\n",
       "    <tr>\n",
       "      <td id=\"T_fa8a2_row4_col0\" class=\"data row4 col0\" > to share resources or ask general questions in a semi-private forum</td>\n",
       "      <td id=\"T_fa8a2_row4_col1\" class=\"data row4 col1\" >github</td>\n",
       "      <td id=\"T_fa8a2_row4_col2\" class=\"data row4 col2\" > discussion on community repo</td>\n",
       "      <td id=\"T_fa8a2_row4_col3\" class=\"data row4 col3\" > include links in your portfolio</td>\n",
       "    </tr>\n",
       "    <tr>\n",
       "      <td id=\"T_fa8a2_row5_col0\" class=\"data row5 col0\" > matters that don't fit into another category</td>\n",
       "      <td id=\"T_fa8a2_row5_col1\" class=\"data row5 col1\" >e-mail</td>\n",
       "      <td id=\"T_fa8a2_row5_col2\" class=\"data row5 col2\" > to brownsarahm@uri.edu</td>\n",
       "      <td id=\"T_fa8a2_row5_col3\" class=\"data row5 col3\" > remember to include `[CSC310]` or `[DSP310]` (note `verbatim` no space)</td>\n",
       "    </tr>\n",
       "  </tbody>\n",
       "</table>\n"
      ],
      "text/plain": [
       "<IPython.core.display.HTML object>"
      ]
     },
     "metadata": {},
     "output_type": "display_data"
    }
   ],
   "source": [
    "df = df[['usage','platform','area','note']]\n",
    "display(HTML(df.style.hide_index()._repr_html_()))"
   ]
  },
  {
   "cell_type": "markdown",
   "id": "a8db704c",
   "metadata": {},
   "source": [
    "```{note}\n",
    "e-mail is last because it's not collaborative; other platforms allow us (Proessor + TA) to collaborate on who responds to things more easily.\n",
    "```\n",
    "\n",
    "## By Platform"
   ]
  },
  {
   "cell_type": "code",
   "execution_count": 4,
   "id": "66c2e9db",
   "metadata": {
    "tags": [
     "remove-input"
    ]
   },
   "outputs": [
    {
     "data": {
      "text/html": [
       "<h3> Use e-mail for </h3>"
      ],
      "text/plain": [
       "<IPython.core.display.HTML object>"
      ]
     },
     "metadata": {},
     "output_type": "display_data"
    },
    {
     "data": {
      "text/html": [
       "<style type=\"text/css\">\n",
       "</style>\n",
       "<table id=\"T_ddd2a_\">\n",
       "  <thead>\n",
       "    <tr>\n",
       "      <th class=\"col_heading level0 col0\" >usage</th>\n",
       "      <th class=\"col_heading level0 col1\" >area</th>\n",
       "      <th class=\"col_heading level0 col2\" >note</th>\n",
       "    </tr>\n",
       "  </thead>\n",
       "  <tbody>\n",
       "    <tr>\n",
       "      <td id=\"T_ddd2a_row0_col0\" class=\"data row0 col0\" > matters that don't fit into another category</td>\n",
       "      <td id=\"T_ddd2a_row0_col1\" class=\"data row0 col1\" > to brownsarahm@uri.edu</td>\n",
       "      <td id=\"T_ddd2a_row0_col2\" class=\"data row0 col2\" > remember to include `[CSC310]` or `[DSP310]` (note `verbatim` no space)</td>\n",
       "    </tr>\n",
       "  </tbody>\n",
       "</table>\n"
      ],
      "text/plain": [
       "<IPython.core.display.HTML object>"
      ]
     },
     "metadata": {},
     "output_type": "display_data"
    },
    {
     "data": {
      "text/html": [
       "<h3> Use github for </h3>"
      ],
      "text/plain": [
       "<IPython.core.display.HTML object>"
      ]
     },
     "metadata": {},
     "output_type": "display_data"
    },
    {
     "data": {
      "text/html": [
       "<style type=\"text/css\">\n",
       "</style>\n",
       "<table id=\"T_a95c2_\">\n",
       "  <thead>\n",
       "    <tr>\n",
       "      <th class=\"col_heading level0 col0\" >usage</th>\n",
       "      <th class=\"col_heading level0 col1\" >area</th>\n",
       "      <th class=\"col_heading level0 col2\" >note</th>\n",
       "    </tr>\n",
       "  </thead>\n",
       "  <tbody>\n",
       "    <tr>\n",
       "      <td id=\"T_a95c2_row0_col0\" class=\"data row0 col0\" > private questions to your assignment</td>\n",
       "      <td id=\"T_a95c2_row0_col1\" class=\"data row0 col1\" > issue on assignment repo</td>\n",
       "      <td id=\"T_a95c2_row0_col2\" class=\"data row0 col2\" > eg bugs in your code\"</td>\n",
       "    </tr>\n",
       "    <tr>\n",
       "      <td id=\"T_a95c2_row1_col0\" class=\"data row1 col0\" > for general questions that can help others</td>\n",
       "      <td id=\"T_a95c2_row1_col1\" class=\"data row1 col1\" > issue on course website</td>\n",
       "      <td id=\"T_a95c2_row1_col2\" class=\"data row1 col2\" > eg what the instructions of an assignment mean or questions about the syllabus</td>\n",
       "    </tr>\n",
       "    <tr>\n",
       "      <td id=\"T_a95c2_row2_col0\" class=\"data row2 col0\" > to share resources or ask general questions in a semi-private forum</td>\n",
       "      <td id=\"T_a95c2_row2_col1\" class=\"data row2 col1\" > discussion on community repo</td>\n",
       "      <td id=\"T_a95c2_row2_col2\" class=\"data row2 col2\" > include links in your portfolio</td>\n",
       "    </tr>\n",
       "  </tbody>\n",
       "</table>\n"
      ],
      "text/plain": [
       "<IPython.core.display.HTML object>"
      ]
     },
     "metadata": {},
     "output_type": "display_data"
    },
    {
     "data": {
      "text/html": [
       "<h3> Use prismia for </h3>"
      ],
      "text/plain": [
       "<IPython.core.display.HTML object>"
      ]
     },
     "metadata": {},
     "output_type": "display_data"
    },
    {
     "data": {
      "text/html": [
       "<style type=\"text/css\">\n",
       "</style>\n",
       "<table id=\"T_025ad_\">\n",
       "  <thead>\n",
       "    <tr>\n",
       "      <th class=\"col_heading level0 col0\" >usage</th>\n",
       "      <th class=\"col_heading level0 col1\" >area</th>\n",
       "      <th class=\"col_heading level0 col2\" >note</th>\n",
       "    </tr>\n",
       "  </thead>\n",
       "  <tbody>\n",
       "    <tr>\n",
       "      <td id=\"T_025ad_row0_col0\" class=\"data row0 col0\" > in class</td>\n",
       "      <td id=\"T_025ad_row0_col1\" class=\"data row0 col1\" > chat</td>\n",
       "      <td id=\"T_025ad_row0_col2\" class=\"data row0 col2\" > outside of class time this is not monitored closely</td>\n",
       "    </tr>\n",
       "    <tr>\n",
       "      <td id=\"T_025ad_row1_col0\" class=\"data row1 col0\" > any time </td>\n",
       "      <td id=\"T_025ad_row1_col1\" class=\"data row1 col1\" > download transcript</td>\n",
       "      <td id=\"T_025ad_row1_col2\" class=\"data row1 col2\" > use after class to get preliminary notes eg if you miss a class</td>\n",
       "    </tr>\n",
       "  </tbody>\n",
       "</table>\n"
      ],
      "text/plain": [
       "<IPython.core.display.HTML object>"
      ]
     },
     "metadata": {},
     "output_type": "display_data"
    }
   ],
   "source": [
    "for platform, data in df.groupby('platform'):\n",
    "    display(HTML('<h3> Use '+ platform + ' for </h3>'))\n",
    "    display(HTML(data.drop(columns='platform').style.hide_index()._repr_html_()))"
   ]
  },
  {
   "cell_type": "markdown",
   "id": "33f8ea3a",
   "metadata": {},
   "source": [
    "## Tips\n",
    "\n",
    "### For assignment help\n",
    "\n",
    "- **send in advance, leave time for a response** I check e-mail/github a small number of times per day, during work hours, almost exclusively. You might see me post to this site, post to BrightSpace, or comment on your assignments outside of my normal working hours, but I will not reliably see emails that arrive during those hours. This means that it is important to start assignments early.\n",
    "\n",
    "### Using issues\n",
    "\n",
    "- use issues for content directly related to assignments.  If you push your code to the repository and then open an issue, I can see your code and your question at the same time and download it to run it if I need to debug it\n",
    "- use issues for questions about this syllabus or class notes. At the top right there's a GitHub logo <i class=\"fab fa-github\"></i> that allows you to open a issue (for a question) or suggest an edit (eg if you think there's a typo or you find an additional helpful resource related to something)\n",
    "\n",
    "### For E-email\n",
    "````{margin}\n",
    "```{note}\n",
    "Whether you use CSC or DSP does not matter.  \n",
    "```\n",
    "````\n",
    "- use e-mail for general inquiries or notifications\n",
    "- Please include `[CSC310]` or `[DSP310]` in the subject line of your email along with the topic of your message. This is important, because your messages are important, but I also get a lot of e-mail. Consider these a cheat code to my inbox: I have setup a filter that will flag your e-mail if you use one of those in the subject to ensure that I see it."
   ]
  }
 ],
 "metadata": {
  "jupytext": {
   "text_representation": {
    "extension": ".md",
    "format_name": "myst",
    "format_version": 0.13,
    "jupytext_version": "1.10.3"
   }
  },
  "kernelspec": {
   "display_name": "Python 3",
   "language": "python",
   "name": "python3"
  },
  "language_info": {
   "codemirror_mode": {
    "name": "ipython",
    "version": 3
   },
   "file_extension": ".py",
   "mimetype": "text/x-python",
   "name": "python",
   "nbconvert_exporter": "python",
   "pygments_lexer": "ipython3",
   "version": "3.7.15"
  },
  "source_map": [
   12,
   20,
   29,
   38,
   42,
   50,
   55,
   63,
   70
  ]
 },
 "nbformat": 4,
 "nbformat_minor": 5
}