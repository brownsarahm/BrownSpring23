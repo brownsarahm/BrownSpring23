{
 "cells": [
  {
   "cell_type": "markdown",
   "id": "74174440",
   "metadata": {},
   "source": [
    "# Exploratory Data Analysis (EDA)\n",
    "\n",
    "Again, we import pandas as usual"
   ]
  },
  {
   "cell_type": "code",
   "execution_count": 1,
   "id": "42a345e2",
   "metadata": {},
   "outputs": [],
   "source": [
    "import pandas as pd"
   ]
  },
  {
   "cell_type": "markdown",
   "id": "870c7161",
   "metadata": {},
   "source": [
    "and loaded the data in again"
   ]
  },
  {
   "cell_type": "code",
   "execution_count": 2,
   "id": "b1feede8",
   "metadata": {},
   "outputs": [],
   "source": [
    "coffee_data_url = 'https://raw.githubusercontent.com/jldbc/coffee-quality-database/master/data/robusta_data_cleaned.csv'\n",
    "coffee_df = pd.read_csv(coffee_data_url,index_col=0)"
   ]
  },
  {
   "cell_type": "markdown",
   "id": "cd6c530e",
   "metadata": {},
   "source": [
    "### Summarizing and Visualizing Data are **very** important\n",
    "\n",
    "- People cannot interpret high dimensional or large samples quickly\n",
    "- Important in EDA to help you make decisions about the rest of your analysis\n",
    "- Important in how you report your results\n",
    "- Summaries are similar calculations to performance metrics we will see later\n",
    "- visualizations are often essential in debugging models\n",
    "\n",
    "\n",
    "**THEREFORE**\n",
    "- You have  [a lot of chances](https://rhodyprog4ds.github.io/BrownSpring23/syllabus/achievements.html#assignments-and-skills) to earn summarize and visualize\n",
    "- we will be picky when we assess if you earned them or not\n",
    "\n",
    "\n",
    "## Describing a Dataset\n",
    "\n",
    "So far, we've loaded data in a few different ways and then we've examined\n",
    "DataFrames as a data structure, looking at what different attributes they have\n",
    "and what some of the methods are, and how to get data into them.\n",
    "\n",
    "We can also get more structural information with the [`info`](https://pandas.pydata.org/docs/reference/api/pandas.DataFrame.info.html) method."
   ]
  },
  {
   "cell_type": "code",
   "execution_count": 3,
   "id": "9a548a0b",
   "metadata": {},
   "outputs": [
    {
     "name": "stdout",
     "output_type": "stream",
     "text": [
      "<class 'pandas.core.frame.DataFrame'>\n",
      "Int64Index: 28 entries, 1 to 28\n",
      "Data columns (total 43 columns):\n",
      " #   Column                 Non-Null Count  Dtype  \n",
      "---  ------                 --------------  -----  \n",
      " 0   Species                28 non-null     object \n",
      " 1   Owner                  28 non-null     object \n",
      " 2   Country.of.Origin      28 non-null     object \n",
      " 3   Farm.Name              25 non-null     object \n",
      " 4   Lot.Number             6 non-null      object \n",
      " 5   Mill                   20 non-null     object \n",
      " 6   ICO.Number             17 non-null     object \n",
      " 7   Company                28 non-null     object \n",
      " 8   Altitude               25 non-null     object \n",
      " 9   Region                 26 non-null     object \n",
      " 10  Producer               26 non-null     object \n",
      " 11  Number.of.Bags         28 non-null     int64  \n",
      " 12  Bag.Weight             28 non-null     object \n",
      " 13  In.Country.Partner     28 non-null     object \n",
      " 14  Harvest.Year           28 non-null     int64  \n",
      " 15  Grading.Date           28 non-null     object \n",
      " 16  Owner.1                28 non-null     object \n",
      " 17  Variety                3 non-null      object \n",
      " 18  Processing.Method      10 non-null     object \n",
      " 19  Fragrance...Aroma      28 non-null     float64\n",
      " 20  Flavor                 28 non-null     float64\n",
      " 21  Aftertaste             28 non-null     float64\n",
      " 22  Salt...Acid            28 non-null     float64\n",
      " 23  Bitter...Sweet         28 non-null     float64\n",
      " 24  Mouthfeel              28 non-null     float64\n",
      " 25  Uniform.Cup            28 non-null     float64\n",
      " 26  Clean.Cup              28 non-null     float64\n",
      " 27  Balance                28 non-null     float64\n",
      " 28  Cupper.Points          28 non-null     float64\n",
      " 29  Total.Cup.Points       28 non-null     float64\n",
      " 30  Moisture               28 non-null     float64\n",
      " 31  Category.One.Defects   28 non-null     int64  \n",
      " 32  Quakers                28 non-null     int64  \n",
      " 33  Color                  26 non-null     object \n",
      " 34  Category.Two.Defects   28 non-null     int64  \n",
      " 35  Expiration             28 non-null     object \n",
      " 36  Certification.Body     28 non-null     object \n",
      " 37  Certification.Address  28 non-null     object \n",
      " 38  Certification.Contact  28 non-null     object \n",
      " 39  unit_of_measurement    28 non-null     object \n",
      " 40  altitude_low_meters    25 non-null     float64\n",
      " 41  altitude_high_meters   25 non-null     float64\n",
      " 42  altitude_mean_meters   25 non-null     float64\n",
      "dtypes: float64(15), int64(5), object(23)\n",
      "memory usage: 9.6+ KB\n"
     ]
    }
   ],
   "source": [
    "coffee_df.info()"
   ]
  },
  {
   "cell_type": "markdown",
   "id": "b63bcd8a",
   "metadata": {},
   "source": [
    "Now, we can actually start to analyze the data itself.\n",
    "\n",
    "The [`describe`](https://pandas.pydata.org/pandas-docs/stable/reference/api/pandas.DataFrame.describe.html) method provides us with a set of summary statistics that broadly\n",
    "describe the data overall."
   ]
  },
  {
   "cell_type": "code",
   "execution_count": 4,
   "id": "a5dd80a1",
   "metadata": {},
   "outputs": [
    {
     "data": {
      "text/html": [
       "<div>\n",
       "<style scoped>\n",
       "    .dataframe tbody tr th:only-of-type {\n",
       "        vertical-align: middle;\n",
       "    }\n",
       "\n",
       "    .dataframe tbody tr th {\n",
       "        vertical-align: top;\n",
       "    }\n",
       "\n",
       "    .dataframe thead th {\n",
       "        text-align: right;\n",
       "    }\n",
       "</style>\n",
       "<table border=\"1\" class=\"dataframe\">\n",
       "  <thead>\n",
       "    <tr style=\"text-align: right;\">\n",
       "      <th></th>\n",
       "      <th>Number.of.Bags</th>\n",
       "      <th>Harvest.Year</th>\n",
       "      <th>Fragrance...Aroma</th>\n",
       "      <th>Flavor</th>\n",
       "      <th>Aftertaste</th>\n",
       "      <th>Salt...Acid</th>\n",
       "      <th>Bitter...Sweet</th>\n",
       "      <th>Mouthfeel</th>\n",
       "      <th>Uniform.Cup</th>\n",
       "      <th>Clean.Cup</th>\n",
       "      <th>Balance</th>\n",
       "      <th>Cupper.Points</th>\n",
       "      <th>Total.Cup.Points</th>\n",
       "      <th>Moisture</th>\n",
       "      <th>Category.One.Defects</th>\n",
       "      <th>Quakers</th>\n",
       "      <th>Category.Two.Defects</th>\n",
       "      <th>altitude_low_meters</th>\n",
       "      <th>altitude_high_meters</th>\n",
       "      <th>altitude_mean_meters</th>\n",
       "    </tr>\n",
       "  </thead>\n",
       "  <tbody>\n",
       "    <tr>\n",
       "      <th>count</th>\n",
       "      <td>28.000000</td>\n",
       "      <td>28.000000</td>\n",
       "      <td>28.000000</td>\n",
       "      <td>28.000000</td>\n",
       "      <td>28.000000</td>\n",
       "      <td>28.000000</td>\n",
       "      <td>28.000000</td>\n",
       "      <td>28.000000</td>\n",
       "      <td>28.000000</td>\n",
       "      <td>28.000000</td>\n",
       "      <td>28.000000</td>\n",
       "      <td>28.000000</td>\n",
       "      <td>28.000000</td>\n",
       "      <td>28.000000</td>\n",
       "      <td>28.000000</td>\n",
       "      <td>28.0</td>\n",
       "      <td>28.000000</td>\n",
       "      <td>25.00000</td>\n",
       "      <td>25.000000</td>\n",
       "      <td>25.000000</td>\n",
       "    </tr>\n",
       "    <tr>\n",
       "      <th>mean</th>\n",
       "      <td>168.000000</td>\n",
       "      <td>2013.964286</td>\n",
       "      <td>7.702500</td>\n",
       "      <td>7.630714</td>\n",
       "      <td>7.559643</td>\n",
       "      <td>7.657143</td>\n",
       "      <td>7.675714</td>\n",
       "      <td>7.506786</td>\n",
       "      <td>9.904286</td>\n",
       "      <td>9.928214</td>\n",
       "      <td>7.541786</td>\n",
       "      <td>7.761429</td>\n",
       "      <td>80.868929</td>\n",
       "      <td>0.065714</td>\n",
       "      <td>2.964286</td>\n",
       "      <td>0.0</td>\n",
       "      <td>1.892857</td>\n",
       "      <td>1367.60000</td>\n",
       "      <td>1387.600000</td>\n",
       "      <td>1377.600000</td>\n",
       "    </tr>\n",
       "    <tr>\n",
       "      <th>std</th>\n",
       "      <td>143.226317</td>\n",
       "      <td>1.346660</td>\n",
       "      <td>0.296156</td>\n",
       "      <td>0.303656</td>\n",
       "      <td>0.342469</td>\n",
       "      <td>0.261773</td>\n",
       "      <td>0.317063</td>\n",
       "      <td>0.725152</td>\n",
       "      <td>0.238753</td>\n",
       "      <td>0.211030</td>\n",
       "      <td>0.526076</td>\n",
       "      <td>0.330507</td>\n",
       "      <td>2.441233</td>\n",
       "      <td>0.058464</td>\n",
       "      <td>12.357280</td>\n",
       "      <td>0.0</td>\n",
       "      <td>2.601129</td>\n",
       "      <td>838.06205</td>\n",
       "      <td>831.884207</td>\n",
       "      <td>833.980216</td>\n",
       "    </tr>\n",
       "    <tr>\n",
       "      <th>min</th>\n",
       "      <td>1.000000</td>\n",
       "      <td>2012.000000</td>\n",
       "      <td>6.750000</td>\n",
       "      <td>6.670000</td>\n",
       "      <td>6.500000</td>\n",
       "      <td>6.830000</td>\n",
       "      <td>6.670000</td>\n",
       "      <td>5.080000</td>\n",
       "      <td>9.330000</td>\n",
       "      <td>9.330000</td>\n",
       "      <td>5.250000</td>\n",
       "      <td>6.920000</td>\n",
       "      <td>73.750000</td>\n",
       "      <td>0.000000</td>\n",
       "      <td>0.000000</td>\n",
       "      <td>0.0</td>\n",
       "      <td>0.000000</td>\n",
       "      <td>40.00000</td>\n",
       "      <td>40.000000</td>\n",
       "      <td>40.000000</td>\n",
       "    </tr>\n",
       "    <tr>\n",
       "      <th>25%</th>\n",
       "      <td>1.000000</td>\n",
       "      <td>2013.000000</td>\n",
       "      <td>7.580000</td>\n",
       "      <td>7.560000</td>\n",
       "      <td>7.397500</td>\n",
       "      <td>7.560000</td>\n",
       "      <td>7.580000</td>\n",
       "      <td>7.500000</td>\n",
       "      <td>10.000000</td>\n",
       "      <td>10.000000</td>\n",
       "      <td>7.500000</td>\n",
       "      <td>7.580000</td>\n",
       "      <td>80.170000</td>\n",
       "      <td>0.000000</td>\n",
       "      <td>0.000000</td>\n",
       "      <td>0.0</td>\n",
       "      <td>0.000000</td>\n",
       "      <td>795.00000</td>\n",
       "      <td>795.000000</td>\n",
       "      <td>795.000000</td>\n",
       "    </tr>\n",
       "    <tr>\n",
       "      <th>50%</th>\n",
       "      <td>170.000000</td>\n",
       "      <td>2014.000000</td>\n",
       "      <td>7.670000</td>\n",
       "      <td>7.710000</td>\n",
       "      <td>7.670000</td>\n",
       "      <td>7.710000</td>\n",
       "      <td>7.750000</td>\n",
       "      <td>7.670000</td>\n",
       "      <td>10.000000</td>\n",
       "      <td>10.000000</td>\n",
       "      <td>7.670000</td>\n",
       "      <td>7.830000</td>\n",
       "      <td>81.500000</td>\n",
       "      <td>0.100000</td>\n",
       "      <td>0.000000</td>\n",
       "      <td>0.0</td>\n",
       "      <td>1.000000</td>\n",
       "      <td>1095.00000</td>\n",
       "      <td>1200.000000</td>\n",
       "      <td>1100.000000</td>\n",
       "    </tr>\n",
       "    <tr>\n",
       "      <th>75%</th>\n",
       "      <td>320.000000</td>\n",
       "      <td>2015.000000</td>\n",
       "      <td>7.920000</td>\n",
       "      <td>7.830000</td>\n",
       "      <td>7.770000</td>\n",
       "      <td>7.830000</td>\n",
       "      <td>7.830000</td>\n",
       "      <td>7.830000</td>\n",
       "      <td>10.000000</td>\n",
       "      <td>10.000000</td>\n",
       "      <td>7.830000</td>\n",
       "      <td>7.920000</td>\n",
       "      <td>82.520000</td>\n",
       "      <td>0.120000</td>\n",
       "      <td>0.000000</td>\n",
       "      <td>0.0</td>\n",
       "      <td>2.000000</td>\n",
       "      <td>1488.00000</td>\n",
       "      <td>1488.000000</td>\n",
       "      <td>1488.000000</td>\n",
       "    </tr>\n",
       "    <tr>\n",
       "      <th>max</th>\n",
       "      <td>320.000000</td>\n",
       "      <td>2017.000000</td>\n",
       "      <td>8.330000</td>\n",
       "      <td>8.080000</td>\n",
       "      <td>7.920000</td>\n",
       "      <td>8.000000</td>\n",
       "      <td>8.420000</td>\n",
       "      <td>8.250000</td>\n",
       "      <td>10.000000</td>\n",
       "      <td>10.000000</td>\n",
       "      <td>8.000000</td>\n",
       "      <td>8.580000</td>\n",
       "      <td>83.750000</td>\n",
       "      <td>0.130000</td>\n",
       "      <td>63.000000</td>\n",
       "      <td>0.0</td>\n",
       "      <td>9.000000</td>\n",
       "      <td>3170.00000</td>\n",
       "      <td>3170.000000</td>\n",
       "      <td>3170.000000</td>\n",
       "    </tr>\n",
       "  </tbody>\n",
       "</table>\n",
       "</div>"
      ],
      "text/plain": [
       "       Number.of.Bags  Harvest.Year  Fragrance...Aroma     Flavor  Aftertaste  \\\n",
       "count       28.000000     28.000000          28.000000  28.000000   28.000000   \n",
       "mean       168.000000   2013.964286           7.702500   7.630714    7.559643   \n",
       "std        143.226317      1.346660           0.296156   0.303656    0.342469   \n",
       "min          1.000000   2012.000000           6.750000   6.670000    6.500000   \n",
       "25%          1.000000   2013.000000           7.580000   7.560000    7.397500   \n",
       "50%        170.000000   2014.000000           7.670000   7.710000    7.670000   \n",
       "75%        320.000000   2015.000000           7.920000   7.830000    7.770000   \n",
       "max        320.000000   2017.000000           8.330000   8.080000    7.920000   \n",
       "\n",
       "       Salt...Acid  Bitter...Sweet  Mouthfeel  Uniform.Cup  Clean.Cup  \\\n",
       "count    28.000000       28.000000  28.000000    28.000000  28.000000   \n",
       "mean      7.657143        7.675714   7.506786     9.904286   9.928214   \n",
       "std       0.261773        0.317063   0.725152     0.238753   0.211030   \n",
       "min       6.830000        6.670000   5.080000     9.330000   9.330000   \n",
       "25%       7.560000        7.580000   7.500000    10.000000  10.000000   \n",
       "50%       7.710000        7.750000   7.670000    10.000000  10.000000   \n",
       "75%       7.830000        7.830000   7.830000    10.000000  10.000000   \n",
       "max       8.000000        8.420000   8.250000    10.000000  10.000000   \n",
       "\n",
       "         Balance  Cupper.Points  Total.Cup.Points   Moisture  \\\n",
       "count  28.000000      28.000000         28.000000  28.000000   \n",
       "mean    7.541786       7.761429         80.868929   0.065714   \n",
       "std     0.526076       0.330507          2.441233   0.058464   \n",
       "min     5.250000       6.920000         73.750000   0.000000   \n",
       "25%     7.500000       7.580000         80.170000   0.000000   \n",
       "50%     7.670000       7.830000         81.500000   0.100000   \n",
       "75%     7.830000       7.920000         82.520000   0.120000   \n",
       "max     8.000000       8.580000         83.750000   0.130000   \n",
       "\n",
       "       Category.One.Defects  Quakers  Category.Two.Defects  \\\n",
       "count             28.000000     28.0             28.000000   \n",
       "mean               2.964286      0.0              1.892857   \n",
       "std               12.357280      0.0              2.601129   \n",
       "min                0.000000      0.0              0.000000   \n",
       "25%                0.000000      0.0              0.000000   \n",
       "50%                0.000000      0.0              1.000000   \n",
       "75%                0.000000      0.0              2.000000   \n",
       "max               63.000000      0.0              9.000000   \n",
       "\n",
       "       altitude_low_meters  altitude_high_meters  altitude_mean_meters  \n",
       "count             25.00000             25.000000             25.000000  \n",
       "mean            1367.60000           1387.600000           1377.600000  \n",
       "std              838.06205            831.884207            833.980216  \n",
       "min               40.00000             40.000000             40.000000  \n",
       "25%              795.00000            795.000000            795.000000  \n",
       "50%             1095.00000           1200.000000           1100.000000  \n",
       "75%             1488.00000           1488.000000           1488.000000  \n",
       "max             3170.00000           3170.000000           3170.000000  "
      ]
     },
     "execution_count": 4,
     "metadata": {},
     "output_type": "execute_result"
    }
   ],
   "source": [
    "coffee_df.describe()"
   ]
  },
  {
   "cell_type": "markdown",
   "id": "0a7c3978",
   "metadata": {},
   "source": [
    "````{margin}\n",
    "```{admonition} further reading\n",
    "On the [documentation page for describe](https://pandas.pydata.org/pandas-docs/stable/reference/api/pandas.DataFrame.describe.html) the \"<i class=\"fas fa-info-circle\"></i>\n",
    " See Also\" shows the links to the documentation of most of the individual functions.  This is a good way to learn about other things, or find something when you are not quite sure what it would be named.  Go to a function thats similar to what you want and then look at the related functions.\n",
    "```\n",
    "````\n",
    "\n",
    "From this, we can draw several conclusions.  FOr example straightforward ones like:\n",
    "- the smallest number of bags rated is 1 and at least 25% of the coffees rates only had 1 bag\n",
    "- the first ratings included were 2012 and last in 2017  (min & max)\n",
    "- the mean Mouthfeel was 7.5\n",
    "- Category One defects are not very common ( the 75th% is 0)\n",
    "\n",
    "Or more nuanced ones that compare across variables like\n",
    "- the raters scored coffee higher on Uniformity.Cup and Clean.Cup than other scores (mean score; only on the ones that seem to have a scale of up to 8/10)\n",
    "- the coffee varied more in Mouthfeel and Balance that most other scores (the std; only on the ones that seem to have a scale of of up to 8/10)\n",
    "- there are 3 ratings with no altitude (count of other variables is 28; alt is 25\n",
    "\n",
    "And these all give us a sense of the values and the distribution or spread fo the data in each column.\n",
    "\n",
    "\n",
    "We can use the descriptive statistics on individual columns as well.\n",
    "\n",
    "\n",
    "\n",
    "### Understanding Quantiles\n",
    "\n",
    "The 50% has another more common name: the median.  It means 50% of the data are lower (and higher) than this value.  \n",
    "\n",
    "%25 i sthe number that 25% of the data is less than\n",
    "%75 is the number that 75% of the data is less than\n",
    "\n",
    "\n",
    "We can use the descriptive statistics on individual columns as well."
   ]
  },
  {
   "cell_type": "code",
   "execution_count": 5,
   "id": "9dfdb36b",
   "metadata": {},
   "outputs": [
    {
     "data": {
      "text/plain": [
       "count    28.000000\n",
       "mean      9.904286\n",
       "std       0.238753\n",
       "min       9.330000\n",
       "25%      10.000000\n",
       "50%      10.000000\n",
       "75%      10.000000\n",
       "max      10.000000\n",
       "Name: Uniform.Cup, dtype: float64"
      ]
     },
     "execution_count": 5,
     "metadata": {},
     "output_type": "execute_result"
    }
   ],
   "source": [
    "coffee_df['Uniform.Cup'].describe()"
   ]
  },
  {
   "cell_type": "code",
   "execution_count": 6,
   "id": "a721262e",
   "metadata": {},
   "outputs": [
    {
     "data": {
      "text/html": [
       "<div>\n",
       "<style scoped>\n",
       "    .dataframe tbody tr th:only-of-type {\n",
       "        vertical-align: middle;\n",
       "    }\n",
       "\n",
       "    .dataframe tbody tr th {\n",
       "        vertical-align: top;\n",
       "    }\n",
       "\n",
       "    .dataframe thead th {\n",
       "        text-align: right;\n",
       "    }\n",
       "</style>\n",
       "<table border=\"1\" class=\"dataframe\">\n",
       "  <thead>\n",
       "    <tr style=\"text-align: right;\">\n",
       "      <th></th>\n",
       "      <th>Uniform.Cup</th>\n",
       "      <th>Mouthfeel</th>\n",
       "    </tr>\n",
       "  </thead>\n",
       "  <tbody>\n",
       "    <tr>\n",
       "      <th>count</th>\n",
       "      <td>28.000000</td>\n",
       "      <td>28.000000</td>\n",
       "    </tr>\n",
       "    <tr>\n",
       "      <th>mean</th>\n",
       "      <td>9.904286</td>\n",
       "      <td>7.506786</td>\n",
       "    </tr>\n",
       "    <tr>\n",
       "      <th>std</th>\n",
       "      <td>0.238753</td>\n",
       "      <td>0.725152</td>\n",
       "    </tr>\n",
       "    <tr>\n",
       "      <th>min</th>\n",
       "      <td>9.330000</td>\n",
       "      <td>5.080000</td>\n",
       "    </tr>\n",
       "    <tr>\n",
       "      <th>25%</th>\n",
       "      <td>10.000000</td>\n",
       "      <td>7.500000</td>\n",
       "    </tr>\n",
       "    <tr>\n",
       "      <th>50%</th>\n",
       "      <td>10.000000</td>\n",
       "      <td>7.670000</td>\n",
       "    </tr>\n",
       "    <tr>\n",
       "      <th>75%</th>\n",
       "      <td>10.000000</td>\n",
       "      <td>7.830000</td>\n",
       "    </tr>\n",
       "    <tr>\n",
       "      <th>max</th>\n",
       "      <td>10.000000</td>\n",
       "      <td>8.250000</td>\n",
       "    </tr>\n",
       "  </tbody>\n",
       "</table>\n",
       "</div>"
      ],
      "text/plain": [
       "       Uniform.Cup  Mouthfeel\n",
       "count    28.000000  28.000000\n",
       "mean      9.904286   7.506786\n",
       "std       0.238753   0.725152\n",
       "min       9.330000   5.080000\n",
       "25%      10.000000   7.500000\n",
       "50%      10.000000   7.670000\n",
       "75%      10.000000   7.830000\n",
       "max      10.000000   8.250000"
      ]
     },
     "execution_count": 6,
     "metadata": {},
     "output_type": "execute_result"
    }
   ],
   "source": [
    "coffee_df[['Uniform.Cup','Mouthfeel']].describe()"
   ]
  },
  {
   "cell_type": "markdown",
   "id": "146811fb",
   "metadata": {},
   "source": [
    "## Individual statistics\n",
    "We can also extract each of the statistics that the `describe` method calculates individually, by name.  The quantiles\n",
    "are tricky, we cannot just `.25%()` to get the 25% percentile, we have to use the\n",
    "`quantile` method and pass it a value between 0 and 1."
   ]
  },
  {
   "cell_type": "code",
   "execution_count": 7,
   "id": "83e61213",
   "metadata": {},
   "outputs": [
    {
     "data": {
      "text/plain": [
       "Number.of.Bags           168.000000\n",
       "Harvest.Year            2013.964286\n",
       "Fragrance...Aroma          7.702500\n",
       "Flavor                     7.630714\n",
       "Aftertaste                 7.559643\n",
       "Salt...Acid                7.657143\n",
       "Bitter...Sweet             7.675714\n",
       "Mouthfeel                  7.506786\n",
       "Uniform.Cup                9.904286\n",
       "Clean.Cup                  9.928214\n",
       "Balance                    7.541786\n",
       "Cupper.Points              7.761429\n",
       "Total.Cup.Points          80.868929\n",
       "Moisture                   0.065714\n",
       "Category.One.Defects       2.964286\n",
       "Quakers                    0.000000\n",
       "Category.Two.Defects       1.892857\n",
       "altitude_low_meters     1367.600000\n",
       "altitude_high_meters    1387.600000\n",
       "altitude_mean_meters    1377.600000\n",
       "dtype: float64"
      ]
     },
     "execution_count": 7,
     "metadata": {},
     "output_type": "execute_result"
    }
   ],
   "source": [
    "coffee_df.mean(numeric_only=True)"
   ]
  },
  {
   "cell_type": "code",
   "execution_count": 8,
   "id": "5c271eea",
   "metadata": {},
   "outputs": [
    {
     "data": {
      "text/plain": [
       "7.83"
      ]
     },
     "execution_count": 8,
     "metadata": {},
     "output_type": "execute_result"
    }
   ],
   "source": [
    "coffee_df['Flavor'].quantile(.8)"
   ]
  },
  {
   "cell_type": "code",
   "execution_count": 9,
   "id": "a33236c5",
   "metadata": {},
   "outputs": [
    {
     "data": {
      "text/plain": [
       "7.559642857142856"
      ]
     },
     "execution_count": 9,
     "metadata": {},
     "output_type": "execute_result"
    }
   ],
   "source": [
    "coffee_df['Aftertaste'].mean()"
   ]
  },
  {
   "cell_type": "code",
   "execution_count": 10,
   "id": "a1877fcc",
   "metadata": {},
   "outputs": [
    {
     "data": {
      "text/html": [
       "<div>\n",
       "<style scoped>\n",
       "    .dataframe tbody tr th:only-of-type {\n",
       "        vertical-align: middle;\n",
       "    }\n",
       "\n",
       "    .dataframe tbody tr th {\n",
       "        vertical-align: top;\n",
       "    }\n",
       "\n",
       "    .dataframe thead th {\n",
       "        text-align: right;\n",
       "    }\n",
       "</style>\n",
       "<table border=\"1\" class=\"dataframe\">\n",
       "  <thead>\n",
       "    <tr style=\"text-align: right;\">\n",
       "      <th></th>\n",
       "      <th>Species</th>\n",
       "      <th>Owner</th>\n",
       "      <th>Country.of.Origin</th>\n",
       "      <th>Farm.Name</th>\n",
       "      <th>Lot.Number</th>\n",
       "      <th>Mill</th>\n",
       "      <th>ICO.Number</th>\n",
       "      <th>Company</th>\n",
       "      <th>Altitude</th>\n",
       "      <th>Region</th>\n",
       "      <th>...</th>\n",
       "      <th>Color</th>\n",
       "      <th>Category.Two.Defects</th>\n",
       "      <th>Expiration</th>\n",
       "      <th>Certification.Body</th>\n",
       "      <th>Certification.Address</th>\n",
       "      <th>Certification.Contact</th>\n",
       "      <th>unit_of_measurement</th>\n",
       "      <th>altitude_low_meters</th>\n",
       "      <th>altitude_high_meters</th>\n",
       "      <th>altitude_mean_meters</th>\n",
       "    </tr>\n",
       "  </thead>\n",
       "  <tbody>\n",
       "    <tr>\n",
       "      <th>1</th>\n",
       "      <td>Robusta</td>\n",
       "      <td>ankole coffee producers coop</td>\n",
       "      <td>Uganda</td>\n",
       "      <td>kyangundu cooperative society</td>\n",
       "      <td>NaN</td>\n",
       "      <td>ankole coffee producers</td>\n",
       "      <td>0</td>\n",
       "      <td>ankole coffee producers coop</td>\n",
       "      <td>1488</td>\n",
       "      <td>sheema south western</td>\n",
       "      <td>...</td>\n",
       "      <td>Green</td>\n",
       "      <td>2</td>\n",
       "      <td>June 26th, 2015</td>\n",
       "      <td>Uganda Coffee Development Authority</td>\n",
       "      <td>e36d0270932c3b657e96b7b0278dfd85dc0fe743</td>\n",
       "      <td>03077a1c6bac60e6f514691634a7f6eb5c85aae8</td>\n",
       "      <td>m</td>\n",
       "      <td>1488.0</td>\n",
       "      <td>1488.0</td>\n",
       "      <td>1488.0</td>\n",
       "    </tr>\n",
       "    <tr>\n",
       "      <th>2</th>\n",
       "      <td>Robusta</td>\n",
       "      <td>nishant gurjer</td>\n",
       "      <td>India</td>\n",
       "      <td>sethuraman estate kaapi royale</td>\n",
       "      <td>25</td>\n",
       "      <td>sethuraman estate</td>\n",
       "      <td>14/1148/2017/21</td>\n",
       "      <td>kaapi royale</td>\n",
       "      <td>3170</td>\n",
       "      <td>chikmagalur karnataka indua</td>\n",
       "      <td>...</td>\n",
       "      <td>NaN</td>\n",
       "      <td>2</td>\n",
       "      <td>October 31st, 2018</td>\n",
       "      <td>Specialty Coffee Association</td>\n",
       "      <td>ff7c18ad303d4b603ac3f8cff7e611ffc735e720</td>\n",
       "      <td>352d0cf7f3e9be14dad7df644ad65efc27605ae2</td>\n",
       "      <td>m</td>\n",
       "      <td>3170.0</td>\n",
       "      <td>3170.0</td>\n",
       "      <td>3170.0</td>\n",
       "    </tr>\n",
       "  </tbody>\n",
       "</table>\n",
       "<p>2 rows × 43 columns</p>\n",
       "</div>"
      ],
      "text/plain": [
       "   Species                         Owner Country.of.Origin  \\\n",
       "1  Robusta  ankole coffee producers coop            Uganda   \n",
       "2  Robusta                nishant gurjer             India   \n",
       "\n",
       "                        Farm.Name Lot.Number                     Mill  \\\n",
       "1   kyangundu cooperative society        NaN  ankole coffee producers   \n",
       "2  sethuraman estate kaapi royale         25        sethuraman estate   \n",
       "\n",
       "        ICO.Number                       Company Altitude  \\\n",
       "1                0  ankole coffee producers coop     1488   \n",
       "2  14/1148/2017/21                  kaapi royale     3170   \n",
       "\n",
       "                        Region  ...  Color  Category.Two.Defects  \\\n",
       "1         sheema south western  ...  Green                     2   \n",
       "2  chikmagalur karnataka indua  ...    NaN                     2   \n",
       "\n",
       "           Expiration                   Certification.Body  \\\n",
       "1     June 26th, 2015  Uganda Coffee Development Authority   \n",
       "2  October 31st, 2018         Specialty Coffee Association   \n",
       "\n",
       "                      Certification.Address  \\\n",
       "1  e36d0270932c3b657e96b7b0278dfd85dc0fe743   \n",
       "2  ff7c18ad303d4b603ac3f8cff7e611ffc735e720   \n",
       "\n",
       "                      Certification.Contact unit_of_measurement  \\\n",
       "1  03077a1c6bac60e6f514691634a7f6eb5c85aae8                   m   \n",
       "2  352d0cf7f3e9be14dad7df644ad65efc27605ae2                   m   \n",
       "\n",
       "  altitude_low_meters altitude_high_meters  altitude_mean_meters  \n",
       "1              1488.0               1488.0                1488.0  \n",
       "2              3170.0               3170.0                3170.0  \n",
       "\n",
       "[2 rows x 43 columns]"
      ]
     },
     "execution_count": 10,
     "metadata": {},
     "output_type": "execute_result"
    }
   ],
   "source": [
    "coffee_df.head(2)"
   ]
  },
  {
   "cell_type": "markdown",
   "id": "9adaf70e",
   "metadata": {},
   "source": [
    "## Working with categorical data\n",
    "There are different columns in the describe than the the whole dataset:"
   ]
  },
  {
   "cell_type": "code",
   "execution_count": 11,
   "id": "dea9e049",
   "metadata": {},
   "outputs": [
    {
     "data": {
      "text/plain": [
       "Index(['Species', 'Owner', 'Country.of.Origin', 'Farm.Name', 'Lot.Number',\n",
       "       'Mill', 'ICO.Number', 'Company', 'Altitude', 'Region', 'Producer',\n",
       "       'Number.of.Bags', 'Bag.Weight', 'In.Country.Partner', 'Harvest.Year',\n",
       "       'Grading.Date', 'Owner.1', 'Variety', 'Processing.Method',\n",
       "       'Fragrance...Aroma', 'Flavor', 'Aftertaste', 'Salt...Acid',\n",
       "       'Bitter...Sweet', 'Mouthfeel', 'Uniform.Cup', 'Clean.Cup', 'Balance',\n",
       "       'Cupper.Points', 'Total.Cup.Points', 'Moisture', 'Category.One.Defects',\n",
       "       'Quakers', 'Color', 'Category.Two.Defects', 'Expiration',\n",
       "       'Certification.Body', 'Certification.Address', 'Certification.Contact',\n",
       "       'unit_of_measurement', 'altitude_low_meters', 'altitude_high_meters',\n",
       "       'altitude_mean_meters'],\n",
       "      dtype='object')"
      ]
     },
     "execution_count": 11,
     "metadata": {},
     "output_type": "execute_result"
    }
   ],
   "source": [
    "coffee_df.columns"
   ]
  },
  {
   "cell_type": "code",
   "execution_count": 12,
   "id": "3c5eff7d",
   "metadata": {},
   "outputs": [
    {
     "data": {
      "text/plain": [
       "Index(['Number.of.Bags', 'Harvest.Year', 'Fragrance...Aroma', 'Flavor',\n",
       "       'Aftertaste', 'Salt...Acid', 'Bitter...Sweet', 'Mouthfeel',\n",
       "       'Uniform.Cup', 'Clean.Cup', 'Balance', 'Cupper.Points',\n",
       "       'Total.Cup.Points', 'Moisture', 'Category.One.Defects', 'Quakers',\n",
       "       'Category.Two.Defects', 'altitude_low_meters', 'altitude_high_meters',\n",
       "       'altitude_mean_meters'],\n",
       "      dtype='object')"
      ]
     },
     "execution_count": 12,
     "metadata": {},
     "output_type": "execute_result"
    }
   ],
   "source": [
    "coffee_df.describe().columns"
   ]
  },
  {
   "cell_type": "markdown",
   "id": "472fe4b2",
   "metadata": {},
   "source": [
    "We can get the prevalence of each one with `value_counts`"
   ]
  },
  {
   "cell_type": "code",
   "execution_count": 13,
   "id": "879c65aa",
   "metadata": {},
   "outputs": [
    {
     "data": {
      "text/plain": [
       "Green           20\n",
       "Blue-Green       3\n",
       "Bluish-Green     2\n",
       "None             1\n",
       "Name: Color, dtype: int64"
      ]
     },
     "execution_count": 13,
     "metadata": {},
     "output_type": "execute_result"
    }
   ],
   "source": [
    "coffee_df['Color'].value_counts()"
   ]
  },
  {
   "cell_type": "markdown",
   "id": "bf72d328",
   "metadata": {},
   "source": [
    "```{admonition} Try it Yourself\n",
    "Note `value_counts` does not count the `NaN` values, but `count` counts all of the\n",
    "not missing values and the shape of the DataFrame is the total number of rows.\n",
    "How can you get the number of missing Colors?\n",
    "```\n",
    "\n",
    "Describe only operates on the numerical columns, but we might want to know about the others.  We can get the number of each value with `value_counts`"
   ]
  },
  {
   "cell_type": "code",
   "execution_count": 14,
   "id": "13a4ab42",
   "metadata": {},
   "outputs": [
    {
     "data": {
      "text/plain": [
       "India            13\n",
       "Uganda           10\n",
       "United States     2\n",
       "Ecuador           2\n",
       "Vietnam           1\n",
       "Name: Country.of.Origin, dtype: int64"
      ]
     },
     "execution_count": 14,
     "metadata": {},
     "output_type": "execute_result"
    }
   ],
   "source": [
    "coffee_df['Country.of.Origin'].value_counts()"
   ]
  },
  {
   "cell_type": "markdown",
   "id": "1ab7a2d3",
   "metadata": {},
   "source": [
    "Value counts returns a pandas Series that has two parts: values and index"
   ]
  },
  {
   "cell_type": "code",
   "execution_count": 15,
   "id": "0e556277",
   "metadata": {},
   "outputs": [
    {
     "data": {
      "text/plain": [
       "array([13, 10,  2,  2,  1])"
      ]
     },
     "execution_count": 15,
     "metadata": {},
     "output_type": "execute_result"
    }
   ],
   "source": [
    "coffee_df['Country.of.Origin'].value_counts().values"
   ]
  },
  {
   "cell_type": "code",
   "execution_count": 16,
   "id": "a5ed64ee",
   "metadata": {},
   "outputs": [
    {
     "data": {
      "text/plain": [
       "Index(['India', 'Uganda', 'United States', 'Ecuador', 'Vietnam'], dtype='object')"
      ]
     },
     "execution_count": 16,
     "metadata": {},
     "output_type": "execute_result"
    }
   ],
   "source": [
    "coffee_df['Country.of.Origin'].value_counts().index"
   ]
  },
  {
   "cell_type": "markdown",
   "id": "ad7a51e3",
   "metadata": {},
   "source": [
    "The max takes the max of the values."
   ]
  },
  {
   "cell_type": "code",
   "execution_count": 17,
   "id": "c6cd271b",
   "metadata": {},
   "outputs": [
    {
     "data": {
      "text/plain": [
       "13"
      ]
     },
     "execution_count": 17,
     "metadata": {},
     "output_type": "execute_result"
    }
   ],
   "source": [
    "coffee_df['Country.of.Origin'].value_counts().max()"
   ]
  },
  {
   "cell_type": "markdown",
   "id": "ef8281f8",
   "metadata": {},
   "source": [
    "We can get the name of the most common country out of this Series using `idmax`"
   ]
  },
  {
   "cell_type": "code",
   "execution_count": 18,
   "id": "a8c8ff4d",
   "metadata": {},
   "outputs": [
    {
     "data": {
      "text/plain": [
       "pandas.core.series.Series"
      ]
     },
     "execution_count": 18,
     "metadata": {},
     "output_type": "execute_result"
    }
   ],
   "source": [
    "type(coffee_df['Country.of.Origin'].value_counts())"
   ]
  },
  {
   "cell_type": "markdown",
   "id": "317106eb",
   "metadata": {},
   "source": [
    "Or see only how many different values with the related:"
   ]
  },
  {
   "cell_type": "code",
   "execution_count": 19,
   "id": "3f8c5e78",
   "metadata": {},
   "outputs": [
    {
     "data": {
      "text/plain": [
       "5"
      ]
     },
     "execution_count": 19,
     "metadata": {},
     "output_type": "execute_result"
    }
   ],
   "source": [
    "coffee_df['Country.of.Origin'].nunique()"
   ]
  },
  {
   "cell_type": "markdown",
   "id": "6338edc0",
   "metadata": {},
   "source": [
    "## Split-Apply-Combine \n",
    "\n",
    "So, we can summarize data now, but the summaries we have done so far have treated each variable one at a time.  The most interesting patterns are in often in how multiple variables interact. We'll do some modeling that looks at multivariate functions of data in a few weeks, but for now, we do a little more with summary statistics.\n",
    "\n",
    " For example, how does the flavor ratings relate to the country?"
   ]
  },
  {
   "cell_type": "code",
   "execution_count": 20,
   "id": "2934b2ec",
   "metadata": {},
   "outputs": [
    {
     "data": {
      "text/html": [
       "<div>\n",
       "<style scoped>\n",
       "    .dataframe tbody tr th:only-of-type {\n",
       "        vertical-align: middle;\n",
       "    }\n",
       "\n",
       "    .dataframe tbody tr th {\n",
       "        vertical-align: top;\n",
       "    }\n",
       "\n",
       "    .dataframe thead th {\n",
       "        text-align: right;\n",
       "    }\n",
       "</style>\n",
       "<table border=\"1\" class=\"dataframe\">\n",
       "  <thead>\n",
       "    <tr style=\"text-align: right;\">\n",
       "      <th></th>\n",
       "      <th>count</th>\n",
       "      <th>mean</th>\n",
       "      <th>std</th>\n",
       "      <th>min</th>\n",
       "      <th>25%</th>\n",
       "      <th>50%</th>\n",
       "      <th>75%</th>\n",
       "      <th>max</th>\n",
       "    </tr>\n",
       "    <tr>\n",
       "      <th>Country.of.Origin</th>\n",
       "      <th></th>\n",
       "      <th></th>\n",
       "      <th></th>\n",
       "      <th></th>\n",
       "      <th></th>\n",
       "      <th></th>\n",
       "      <th></th>\n",
       "      <th></th>\n",
       "    </tr>\n",
       "  </thead>\n",
       "  <tbody>\n",
       "    <tr>\n",
       "      <th>Ecuador</th>\n",
       "      <td>2.0</td>\n",
       "      <td>7.625000</td>\n",
       "      <td>0.063640</td>\n",
       "      <td>7.58</td>\n",
       "      <td>7.6025</td>\n",
       "      <td>7.625</td>\n",
       "      <td>7.6475</td>\n",
       "      <td>7.67</td>\n",
       "    </tr>\n",
       "    <tr>\n",
       "      <th>India</th>\n",
       "      <td>13.0</td>\n",
       "      <td>7.640769</td>\n",
       "      <td>0.279835</td>\n",
       "      <td>6.83</td>\n",
       "      <td>7.5800</td>\n",
       "      <td>7.750</td>\n",
       "      <td>7.7500</td>\n",
       "      <td>7.92</td>\n",
       "    </tr>\n",
       "    <tr>\n",
       "      <th>Uganda</th>\n",
       "      <td>10.0</td>\n",
       "      <td>7.758000</td>\n",
       "      <td>0.197754</td>\n",
       "      <td>7.42</td>\n",
       "      <td>7.6025</td>\n",
       "      <td>7.790</td>\n",
       "      <td>7.8975</td>\n",
       "      <td>8.08</td>\n",
       "    </tr>\n",
       "    <tr>\n",
       "      <th>United States</th>\n",
       "      <td>2.0</td>\n",
       "      <td>7.415000</td>\n",
       "      <td>0.120208</td>\n",
       "      <td>7.33</td>\n",
       "      <td>7.3725</td>\n",
       "      <td>7.415</td>\n",
       "      <td>7.4575</td>\n",
       "      <td>7.50</td>\n",
       "    </tr>\n",
       "    <tr>\n",
       "      <th>Vietnam</th>\n",
       "      <td>1.0</td>\n",
       "      <td>6.670000</td>\n",
       "      <td>NaN</td>\n",
       "      <td>6.67</td>\n",
       "      <td>6.6700</td>\n",
       "      <td>6.670</td>\n",
       "      <td>6.6700</td>\n",
       "      <td>6.67</td>\n",
       "    </tr>\n",
       "  </tbody>\n",
       "</table>\n",
       "</div>"
      ],
      "text/plain": [
       "                   count      mean       std   min     25%    50%     75%  \\\n",
       "Country.of.Origin                                                           \n",
       "Ecuador              2.0  7.625000  0.063640  7.58  7.6025  7.625  7.6475   \n",
       "India               13.0  7.640769  0.279835  6.83  7.5800  7.750  7.7500   \n",
       "Uganda              10.0  7.758000  0.197754  7.42  7.6025  7.790  7.8975   \n",
       "United States        2.0  7.415000  0.120208  7.33  7.3725  7.415  7.4575   \n",
       "Vietnam              1.0  6.670000       NaN  6.67  6.6700  6.670  6.6700   \n",
       "\n",
       "                    max  \n",
       "Country.of.Origin        \n",
       "Ecuador            7.67  \n",
       "India              7.92  \n",
       "Uganda             8.08  \n",
       "United States      7.50  \n",
       "Vietnam            6.67  "
      ]
     },
     "execution_count": 20,
     "metadata": {},
     "output_type": "execute_result"
    }
   ],
   "source": [
    "coffee_df.groupby('Country.of.Origin')['Flavor'].describe()"
   ]
  },
  {
   "cell_type": "markdown",
   "id": "0cbcbd8e",
   "metadata": {},
   "source": [
    "Above we saw which country had the most ratings (remember one row is one rating), but what if we wanted to see the mean number of bags per country?"
   ]
  },
  {
   "cell_type": "code",
   "execution_count": 21,
   "id": "d06eacf3",
   "metadata": {},
   "outputs": [
    {
     "data": {
      "text/plain": [
       "Country.of.Origin\n",
       "Ecuador            1.000000\n",
       "India            230.076923\n",
       "Uganda           160.900000\n",
       "United States     50.500000\n",
       "Vietnam            1.000000\n",
       "Name: Number.of.Bags, dtype: float64"
      ]
     },
     "execution_count": 21,
     "metadata": {},
     "output_type": "execute_result"
    }
   ],
   "source": [
    "coffee_df.groupby('Country.of.Origin')['Number.of.Bags'].mean()"
   ]
  },
  {
   "cell_type": "markdown",
   "id": "2545e707",
   "metadata": {},
   "source": [
    "```{important}\n",
    "This data is only about coffee that was [rated by a particular agency](https://github.com/jldbc/coffee-quality-database/) it is not economic data, so we cannot, for example conclude which country *produces* the amount of data.  If we had economic dataset, a `Number.of.Bags` columns's mean would tell us exactly that, but the context of the dataset defines what a row means and therefore how we can interpret the **every single statistic** we calculate.\n",
    "```\n",
    "\n",
    "\n",
    "What just happened?\n",
    "![split-apply-combine image showing one data table, it split into 3 part, the sum applied to each part, and the sums combined back into one table](https://jakevdp.github.io/PythonDataScienceHandbook/figures/03.08-split-apply-combine.png)\n",
    "\n",
    "Groupby splits the whole dataframe into parts where each part has the same value for `Country.of.Origin` and then after that, we extracted the `Number.of.Bags` column, took the sum (within each separate group) and then put it all back together in one table (in this case, a `Series` becuase we picked one variable out)\n",
    "\n",
    "(groupby-detail)=\n",
    "### How does Groupby Work?\n",
    "```{important}\n",
    "This is more details with code examples on how the groupby works.  If you want\n",
    "to run this code for yourself, use the download icon at the top right to download\n",
    "these notes as a notebook.\n",
    "```\n",
    "\n",
    "We can view this by saving the groupby object as a variable and exploring it."
   ]
  },
  {
   "cell_type": "code",
   "execution_count": 22,
   "id": "61ae75e3",
   "metadata": {},
   "outputs": [
    {
     "data": {
      "text/plain": [
       "<pandas.core.groupby.generic.DataFrameGroupBy object at 0x7f339a0d24f0>"
      ]
     },
     "execution_count": 22,
     "metadata": {},
     "output_type": "execute_result"
    }
   ],
   "source": [
    "country_grouped = coffee_df.groupby('Country.of.Origin')\n",
    "\n",
    "country_grouped"
   ]
  },
  {
   "cell_type": "markdown",
   "id": "43604196",
   "metadata": {},
   "source": [
    "Trying to look at it without applying additional functions, just tells us the type.  But, it's iterable, so we can loop over."
   ]
  },
  {
   "cell_type": "code",
   "execution_count": 23,
   "id": "877203ef",
   "metadata": {},
   "outputs": [
    {
     "name": "stdout",
     "output_type": "stream",
     "text": [
      "<class 'str'> <class 'pandas.core.frame.DataFrame'>\n",
      "<class 'str'> <class 'pandas.core.frame.DataFrame'>\n",
      "<class 'str'> <class 'pandas.core.frame.DataFrame'>\n",
      "<class 'str'> <class 'pandas.core.frame.DataFrame'>\n",
      "<class 'str'> <class 'pandas.core.frame.DataFrame'>\n"
     ]
    }
   ],
   "source": [
    "for country,df in country_grouped:\n",
    "    print(type(country), type(df))"
   ]
  },
  {
   "cell_type": "markdown",
   "id": "07d41ba0",
   "metadata": {},
   "source": [
    "````{margin}\n",
    "```{note}\n",
    "I used this feature to build the separate view of the communication channels on this website.  You can view that source using the github icon on that page.\n",
    "```\n",
    "````\n",
    "\n",
    "We could manually compute things using the data structure, if needed, though using pandas functionality will usually do what we want. For example:\n",
    "\n",
    "````{margin}\n",
    "```{note}\n",
    "I tried putting this dictionary into the dataframe for display purposes using the regular constructor and got an error, so I googled about making one from a dictionary to get the docs, which is how I learned about the [`from_dict`](https://pandas.pydata.org/docs/reference/api/pandas.DataFrame.from_dict.html) method and its `orient` parameter which solved my problems.\n",
    "```\n",
    "````"
   ]
  },
  {
   "cell_type": "code",
   "execution_count": 24,
   "id": "85925a6c",
   "metadata": {},
   "outputs": [
    {
     "data": {
      "text/html": [
       "<div>\n",
       "<style scoped>\n",
       "    .dataframe tbody tr th:only-of-type {\n",
       "        vertical-align: middle;\n",
       "    }\n",
       "\n",
       "    .dataframe tbody tr th {\n",
       "        vertical-align: top;\n",
       "    }\n",
       "\n",
       "    .dataframe thead th {\n",
       "        text-align: right;\n",
       "    }\n",
       "</style>\n",
       "<table border=\"1\" class=\"dataframe\">\n",
       "  <thead>\n",
       "    <tr style=\"text-align: right;\">\n",
       "      <th></th>\n",
       "      <th>Number.of.Bags.Sum</th>\n",
       "    </tr>\n",
       "  </thead>\n",
       "  <tbody>\n",
       "    <tr>\n",
       "      <th>Ecuador</th>\n",
       "      <td>2</td>\n",
       "    </tr>\n",
       "    <tr>\n",
       "      <th>India</th>\n",
       "      <td>2991</td>\n",
       "    </tr>\n",
       "    <tr>\n",
       "      <th>Uganda</th>\n",
       "      <td>1609</td>\n",
       "    </tr>\n",
       "    <tr>\n",
       "      <th>United States</th>\n",
       "      <td>101</td>\n",
       "    </tr>\n",
       "    <tr>\n",
       "      <th>Vietnam</th>\n",
       "      <td>1</td>\n",
       "    </tr>\n",
       "  </tbody>\n",
       "</table>\n",
       "</div>"
      ],
      "text/plain": [
       "               Number.of.Bags.Sum\n",
       "Ecuador                         2\n",
       "India                        2991\n",
       "Uganda                       1609\n",
       "United States                 101\n",
       "Vietnam                         1"
      ]
     },
     "execution_count": 24,
     "metadata": {},
     "output_type": "execute_result"
    }
   ],
   "source": [
    "bag_total_dict = {}\n",
    "\n",
    "for country,df in country_grouped:\n",
    "    tot_bags =  df['Number.of.Bags'].sum()\n",
    "    bag_total_dict[country] = tot_bags\n",
    "\n",
    "pd.DataFrame.from_dict(bag_total_dict, orient='index',\n",
    "                           columns = ['Number.of.Bags.Sum'])"
   ]
  },
  {
   "cell_type": "markdown",
   "id": "713168fb",
   "metadata": {},
   "source": [
    "is the same as what we did before\n",
    "\n",
    "\n",
    "\n",
    "\n",
    "## Plotting with Pandas \n",
    "\n",
    "<!-- ```{code-cell} ipython3\n",
    "%matplotlib inline\n",
    "``` -->\n",
    "\n",
    "Pandas allows us to do basic plots on a `DataFrame` or `Series` with the `plot` method.  \n",
    "\n",
    "We want bars so we will use the `kind` parameter to switch it."
   ]
  },
  {
   "cell_type": "code",
   "execution_count": 25,
   "id": "d35fd79a",
   "metadata": {},
   "outputs": [
    {
     "data": {
      "text/plain": [
       "<AxesSubplot: xlabel='Country.of.Origin'>"
      ]
     },
     "execution_count": 25,
     "metadata": {},
     "output_type": "execute_result"
    },
    {
     "data": {
      "image/png": "[encoded data removed]",
      "text/plain": [
       "<Figure size 640x480 with 1 Axes>"
      ]
     },
     "metadata": {
      "filenames": {
       "image/png": "/home/runner/work/BrownSpring23/BrownSpring23/_build/jupyter_execute/notes/2023-02-07_43_1.png"
      }
     },
     "output_type": "display_data"
    }
   ],
   "source": [
    "coffee_df.groupby('Country.of.Origin')['Flavor'].mean().plot(kind='bar')"
   ]
  },
  {
   "cell_type": "markdown",
   "id": "fc0d14fe",
   "metadata": {},
   "source": [
    "It can also be done on a dataframe like this"
   ]
  },
  {
   "cell_type": "code",
   "execution_count": 26,
   "id": "29db0f0b",
   "metadata": {},
   "outputs": [
    {
     "data": {
      "text/plain": [
       "<AxesSubplot: xlabel='Country.of.Origin'>"
      ]
     },
     "execution_count": 26,
     "metadata": {},
     "output_type": "execute_result"
    },
    {
     "data": {
      "image/png": "[encoded data removed]",
      "text/plain": [
       "<Figure size 640x480 with 1 Axes>"
      ]
     },
     "metadata": {
      "filenames": {
       "image/png": "/home/runner/work/BrownSpring23/BrownSpring23/_build/jupyter_execute/notes/2023-02-07_45_1.png"
      }
     },
     "output_type": "display_data"
    }
   ],
   "source": [
    "coffee_df.groupby('Country.of.Origin')[['Flavor','Aftertaste']].mean().plot(kind='bar')"
   ]
  },
  {
   "cell_type": "markdown",
   "id": "e6852776",
   "metadata": {},
   "source": [
    "Note that it adds a legend for us and uses two colors. \n",
    "\n",
    "```{admonition} What is the default plot type\n",
    ":class: anchor\n",
    "\n",
    "Try removing the `kind=bar` and see what it does\n",
    "```"
   ]
  },
  {
   "cell_type": "code",
   "execution_count": null,
   "id": "f8f12a73",
   "metadata": {},
   "outputs": [],
   "source": []
  },
  {
   "cell_type": "markdown",
   "id": "fdc50083",
   "metadata": {},
   "source": [
    "## Questions after Class\n",
    "\n",
    "### Are there any calls for examples such as.plot or .describe that you do not want us to use?\n",
    "\n",
    "Everything in pandas is welcome, unless it is deprecated or not recommended by pandas. Pandas will tell, like the FutureWarning that we saw today. Work will be accepted with warnings, most of the time but it is not best practice and some that I specifically tell you to avoid as we encounter them will not be accepted. \n",
    "\n",
    "### What keyboard key do you use to run the code so I don't have to use the mouse?\n",
    "\n",
    "hold shift, press enter\n",
    "\n",
    "### How do we take the plots and save them to a separate file?\n",
    "\n",
    "We will need an additional library to do this, we will do that on Thursday. \n",
    "\n",
    "### how do you display different types of charts\n",
    "\n",
    "the `kind` attribute can change to differen types\n",
    "\n",
    "### When you give feedback on an assignment is there a way to fix it to get the points you said it did not meet?\n",
    "\n",
    "No, you can attempt in the next assignment or portfolio check. \n",
    "\n",
    "### I want to know more about the limitations of pandas \n",
    "\n",
    "pandas is relatively slow and cannot use accelerated hardware very well.  However it is still good to learn because it has gained a lot of traction. So much so that in [`modin`](https://docs.ray.io/en/latest/data/modin/index.html) you can change one line of code to get those advantages. \n",
    "\n",
    "### Can Jupyter use other graphics software?\n",
    "\n",
    "Jupyter notebooks are a file(roughly a json). You can edit it using any text editor. You can also convert to a plain text files using [`jupytext`](https://github.com/mwouts/jupytext) that is still runnable. \n",
    "\n",
    "### How do we generate different models as done in r, also is there a supernova function?\n",
    "\n",
    "R is designed by and for statisticians.  Most of the calculations can be done. They may be slightly more clunky in Python than R.  \n",
    "\n",
    "### I had a question on the assignment, in the datasets.py file were we were supposed to save a function handle, should it be a function object or a string?\n",
    "\n",
    "function object\n",
    "\n",
    "### Besides accepting the invite, is there any more setup we were supposed to do with the achievement tracker repository?\n",
    "\n",
    "No, that's it."
   ]
  }
 ],
 "metadata": {
  "jupytext": {
   "text_representation": {
    "extension": ".md",
    "format_name": "myst",
    "format_version": 0.13,
    "jupytext_version": "1.14.1"
   }
  },
  "kernelspec": {
   "display_name": "Python 3",
   "language": "python",
   "name": "python3"
  },
  "language_info": {
   "codemirror_mode": {
    "name": "ipython",
    "version": 3
   },
   "file_extension": ".py",
   "mimetype": "text/x-python",
   "name": "python",
   "nbconvert_exporter": "python",
   "pygments_lexer": "ipython3",
   "version": "3.8.16"
  },
  "source_map": [
   12,
   17,
   19,
   23,
   26,
   50,
   52,
   59,
   61,
   99,
   103,
   105,
   112,
   116,
   120,
   124,
   126,
   130,
   134,
   136,
   139,
   141,
   152,
   154,
   159,
   163,
   165,
   169,
   171,
   175,
   177,
   180,
   182,
   190,
   192,
   196,
   198,
   221,
   225,
   229,
   232,
   248,
   257,
   274,
   276,
   280,
   282,
   292,
   294
  ]
 },
 "nbformat": 4,
 "nbformat_minor": 5
}