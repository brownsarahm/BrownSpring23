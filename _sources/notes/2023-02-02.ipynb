{
 "cells": [
  {
   "cell_type": "markdown",
   "id": "e23f4e48",
   "metadata": {},
   "source": [
    "# Pandas and Indexing\n",
    "\n",
    "## Iterable types"
   ]
  },
  {
   "cell_type": "code",
   "execution_count": 1,
   "id": "5fbe28b9",
   "metadata": {},
   "outputs": [],
   "source": [
    "a = [char for char in 'abcde']\n",
    "b = {char:i for i,char in enumerate('abcde')}\n",
    "c = ('a','b','c','d','e')\n",
    "d = 'a b c d e'.split()"
   ]
  },
  {
   "cell_type": "code",
   "execution_count": 2,
   "id": "457f5604",
   "metadata": {},
   "outputs": [
    {
     "data": {
      "text/plain": [
       "['a', 'b', 'c', 'd', 'e']"
      ]
     },
     "execution_count": 2,
     "metadata": {},
     "output_type": "execute_result"
    }
   ],
   "source": [
    "a"
   ]
  },
  {
   "cell_type": "code",
   "execution_count": 3,
   "id": "f3fbb455",
   "metadata": {},
   "outputs": [
    {
     "data": {
      "text/plain": [
       "list"
      ]
     },
     "execution_count": 3,
     "metadata": {},
     "output_type": "execute_result"
    }
   ],
   "source": [
    "type(a)"
   ]
  },
  {
   "cell_type": "code",
   "execution_count": 4,
   "id": "7adeb14e",
   "metadata": {},
   "outputs": [
    {
     "data": {
      "text/plain": [
       "{'a': 0, 'b': 1, 'c': 2, 'd': 3, 'e': 4}"
      ]
     },
     "execution_count": 4,
     "metadata": {},
     "output_type": "execute_result"
    }
   ],
   "source": [
    "b"
   ]
  },
  {
   "cell_type": "code",
   "execution_count": 5,
   "id": "7819b2e5",
   "metadata": {},
   "outputs": [
    {
     "data": {
      "text/plain": [
       "dict"
      ]
     },
     "execution_count": 5,
     "metadata": {},
     "output_type": "execute_result"
    }
   ],
   "source": [
    "type(b)"
   ]
  },
  {
   "cell_type": "code",
   "execution_count": 6,
   "id": "b04b2771",
   "metadata": {},
   "outputs": [
    {
     "data": {
      "text/plain": [
       "('a', 'b', 'c', 'd', 'e')"
      ]
     },
     "execution_count": 6,
     "metadata": {},
     "output_type": "execute_result"
    }
   ],
   "source": [
    "c"
   ]
  },
  {
   "cell_type": "code",
   "execution_count": 7,
   "id": "82b56d71",
   "metadata": {},
   "outputs": [
    {
     "data": {
      "text/plain": [
       "tuple"
      ]
     },
     "execution_count": 7,
     "metadata": {},
     "output_type": "execute_result"
    }
   ],
   "source": [
    "type(c)"
   ]
  },
  {
   "cell_type": "code",
   "execution_count": 8,
   "id": "7ae23134",
   "metadata": {},
   "outputs": [
    {
     "data": {
      "text/plain": [
       "['a', 'b', 'c', 'd', 'e']"
      ]
     },
     "execution_count": 8,
     "metadata": {},
     "output_type": "execute_result"
    }
   ],
   "source": [
    "d"
   ]
  },
  {
   "cell_type": "code",
   "execution_count": 9,
   "id": "b2963e71",
   "metadata": {},
   "outputs": [
    {
     "data": {
      "text/plain": [
       "list"
      ]
     },
     "execution_count": 9,
     "metadata": {},
     "output_type": "execute_result"
    }
   ],
   "source": [
    "type(d)"
   ]
  },
  {
   "cell_type": "markdown",
   "id": "3132be69",
   "metadata": {},
   "source": [
    "## Reading data other ways"
   ]
  },
  {
   "cell_type": "code",
   "execution_count": 10,
   "id": "c09fd5ca",
   "metadata": {},
   "outputs": [],
   "source": [
    "import pandas as pd"
   ]
  },
  {
   "cell_type": "code",
   "execution_count": 11,
   "id": "82b1214b",
   "metadata": {},
   "outputs": [],
   "source": [
    "course_comms_url = 'https://rhodyprog4ds.github.io/BrownSpring23/syllabus/communication.html'"
   ]
  },
  {
   "cell_type": "markdown",
   "id": "9a5d3b6a",
   "metadata": {},
   "source": [
    "THis reads in from the html directly."
   ]
  },
  {
   "cell_type": "code",
   "execution_count": 12,
   "id": "293837e8",
   "metadata": {},
   "outputs": [
    {
     "data": {
      "text/plain": [
       "[   Day      Time            Location       Host\n",
       " 0  Mon  11am-1pm  Tyler 139 and zoom       Kyle\n",
       " 1  Wed  7-8:30pm                Zoom  Dr. Brown\n",
       " 2  Fri     3-6pm                Zoom       Kyle,\n",
       "                                           usage                    area  \\\n",
       " 0  matters that don't fit into another category  to brownsarahm@uri.edu   \n",
       " \n",
       "                                                 note  \n",
       " 0  remember to include `[CSC310]` or `[DSP310]` (...  ,\n",
       "                                                usage  \\\n",
       " 0               private questions to your assignment   \n",
       " 1         for general questions that can help others   \n",
       " 2  to share resources or ask general questions in...   \n",
       " \n",
       "                            area  \\\n",
       " 0      issue on assignment repo   \n",
       " 1       issue on course website   \n",
       " 2  discussion on community repo   \n",
       " \n",
       "                                                 note  \n",
       " 0                              eg bugs in your code\"  \n",
       " 1  eg what the instructions of an assignment mean...  \n",
       " 2                    include links in your portfolio  ,\n",
       "       usage                 area  \\\n",
       " 0  in class                 chat   \n",
       " 1  any time  download transcript   \n",
       " \n",
       "                                                 note  \n",
       " 0  outside of class time this is not monitored cl...  \n",
       " 1  use after class to get preliminary notes eg if...  ]"
      ]
     },
     "execution_count": 12,
     "metadata": {},
     "output_type": "execute_result"
    }
   ],
   "source": [
    "pd.read_html(course_comms_url)"
   ]
  },
  {
   "cell_type": "code",
   "execution_count": 13,
   "id": "5fb40eb6",
   "metadata": {},
   "outputs": [],
   "source": [
    "html_list = pd.read_html(course_comms_url)"
   ]
  },
  {
   "cell_type": "code",
   "execution_count": 14,
   "id": "e725334a",
   "metadata": {},
   "outputs": [
    {
     "data": {
      "text/plain": [
       "list"
      ]
     },
     "execution_count": 14,
     "metadata": {},
     "output_type": "execute_result"
    }
   ],
   "source": [
    "type(html_list)"
   ]
  },
  {
   "cell_type": "code",
   "execution_count": 15,
   "id": "00ce8fa6",
   "metadata": {},
   "outputs": [
    {
     "data": {
      "text/plain": [
       "pandas.core.frame.DataFrame"
      ]
     },
     "execution_count": 15,
     "metadata": {},
     "output_type": "execute_result"
    }
   ],
   "source": [
    "type(html_list[0])"
   ]
  },
  {
   "cell_type": "code",
   "execution_count": 16,
   "id": "ac359867",
   "metadata": {},
   "outputs": [
    {
     "data": {
      "text/plain": [
       "[pandas.core.frame.DataFrame,\n",
       " pandas.core.frame.DataFrame,\n",
       " pandas.core.frame.DataFrame,\n",
       " pandas.core.frame.DataFrame]"
      ]
     },
     "execution_count": 16,
     "metadata": {},
     "output_type": "execute_result"
    }
   ],
   "source": [
    "[type(h) for h in html_list]"
   ]
  },
  {
   "cell_type": "code",
   "execution_count": 17,
   "id": "c220ae10",
   "metadata": {},
   "outputs": [],
   "source": [
    "achievements_url = 'https://rhodyprog4ds.github.io/BrownSpring23/syllabus/achievements.html'"
   ]
  },
  {
   "cell_type": "markdown",
   "id": "c88467b6",
   "metadata": {},
   "source": [
    "get the tables"
   ]
  },
  {
   "cell_type": "code",
   "execution_count": 18,
   "id": "af6da881",
   "metadata": {},
   "outputs": [],
   "source": [
    "achievements_df_list = pd.read_html(achievements_url)"
   ]
  },
  {
   "cell_type": "markdown",
   "id": "bcf40270",
   "metadata": {},
   "source": [
    "make a list means use a list comprehension"
   ]
  },
  {
   "cell_type": "code",
   "execution_count": 19,
   "id": "2e60f0a8",
   "metadata": {},
   "outputs": [
    {
     "data": {
      "text/plain": [
       "[(14, 3), (15, 5), (15, 15), (15, 6)]"
      ]
     },
     "execution_count": 19,
     "metadata": {},
     "output_type": "execute_result"
    }
   ],
   "source": [
    "[ach.shape for ach in achievements_df_list]"
   ]
  },
  {
   "cell_type": "code",
   "execution_count": 20,
   "id": "060e7361",
   "metadata": {},
   "outputs": [
    {
     "ename": "AttributeError",
     "evalue": "'list' object has no attribute 'shape'",
     "output_type": "error",
     "traceback": [
      "\u001b[0;31m---------------------------------------------------------------------------\u001b[0m",
      "\u001b[0;31mAttributeError\u001b[0m                            Traceback (most recent call last)",
      "Cell \u001b[0;32mIn[20], line 1\u001b[0m\n\u001b[0;32m----> 1\u001b[0m \u001b[43machievements_df_list\u001b[49m\u001b[38;5;241;43m.\u001b[39;49m\u001b[43mshape\u001b[49m\n",
      "\u001b[0;31mAttributeError\u001b[0m: 'list' object has no attribute 'shape'"
     ]
    }
   ],
   "source": [
    "achievements_df_list.shape"
   ]
  },
  {
   "cell_type": "code",
   "execution_count": 21,
   "id": "a1ad00dc",
   "metadata": {},
   "outputs": [],
   "source": [
    "coffee_data_url = 'https://raw.githubusercontent.com/jldbc/coffee-quality-database/master/data/robusta_data_cleaned.csv'"
   ]
  },
  {
   "cell_type": "code",
   "execution_count": 22,
   "id": "cca7d23d",
   "metadata": {},
   "outputs": [],
   "source": [
    "coffee_df = pd.read_csv(coffee_data_url,index_col=0)"
   ]
  },
  {
   "cell_type": "code",
   "execution_count": 23,
   "id": "212f56a2",
   "metadata": {},
   "outputs": [
    {
     "data": {
      "text/html": [
       "<div>\n",
       "<style scoped>\n",
       "    .dataframe tbody tr th:only-of-type {\n",
       "        vertical-align: middle;\n",
       "    }\n",
       "\n",
       "    .dataframe tbody tr th {\n",
       "        vertical-align: top;\n",
       "    }\n",
       "\n",
       "    .dataframe thead th {\n",
       "        text-align: right;\n",
       "    }\n",
       "</style>\n",
       "<table border=\"1\" class=\"dataframe\">\n",
       "  <thead>\n",
       "    <tr style=\"text-align: right;\">\n",
       "      <th></th>\n",
       "      <th>Species</th>\n",
       "      <th>Owner</th>\n",
       "      <th>Country.of.Origin</th>\n",
       "      <th>Farm.Name</th>\n",
       "      <th>Lot.Number</th>\n",
       "      <th>Mill</th>\n",
       "      <th>ICO.Number</th>\n",
       "      <th>Company</th>\n",
       "      <th>Altitude</th>\n",
       "      <th>Region</th>\n",
       "      <th>...</th>\n",
       "      <th>Color</th>\n",
       "      <th>Category.Two.Defects</th>\n",
       "      <th>Expiration</th>\n",
       "      <th>Certification.Body</th>\n",
       "      <th>Certification.Address</th>\n",
       "      <th>Certification.Contact</th>\n",
       "      <th>unit_of_measurement</th>\n",
       "      <th>altitude_low_meters</th>\n",
       "      <th>altitude_high_meters</th>\n",
       "      <th>altitude_mean_meters</th>\n",
       "    </tr>\n",
       "  </thead>\n",
       "  <tbody>\n",
       "    <tr>\n",
       "      <th>1</th>\n",
       "      <td>Robusta</td>\n",
       "      <td>ankole coffee producers coop</td>\n",
       "      <td>Uganda</td>\n",
       "      <td>kyangundu cooperative society</td>\n",
       "      <td>NaN</td>\n",
       "      <td>ankole coffee producers</td>\n",
       "      <td>0</td>\n",
       "      <td>ankole coffee producers coop</td>\n",
       "      <td>1488</td>\n",
       "      <td>sheema south western</td>\n",
       "      <td>...</td>\n",
       "      <td>Green</td>\n",
       "      <td>2</td>\n",
       "      <td>June 26th, 2015</td>\n",
       "      <td>Uganda Coffee Development Authority</td>\n",
       "      <td>e36d0270932c3b657e96b7b0278dfd85dc0fe743</td>\n",
       "      <td>03077a1c6bac60e6f514691634a7f6eb5c85aae8</td>\n",
       "      <td>m</td>\n",
       "      <td>1488.0</td>\n",
       "      <td>1488.0</td>\n",
       "      <td>1488.0</td>\n",
       "    </tr>\n",
       "  </tbody>\n",
       "</table>\n",
       "<p>1 rows × 43 columns</p>\n",
       "</div>"
      ],
      "text/plain": [
       "   Species                         Owner Country.of.Origin  \\\n",
       "1  Robusta  ankole coffee producers coop            Uganda   \n",
       "\n",
       "                       Farm.Name Lot.Number                     Mill  \\\n",
       "1  kyangundu cooperative society        NaN  ankole coffee producers   \n",
       "\n",
       "  ICO.Number                       Company Altitude                Region  \\\n",
       "1          0  ankole coffee producers coop     1488  sheema south western   \n",
       "\n",
       "   ...  Color  Category.Two.Defects       Expiration  \\\n",
       "1  ...  Green                     2  June 26th, 2015   \n",
       "\n",
       "                    Certification.Body  \\\n",
       "1  Uganda Coffee Development Authority   \n",
       "\n",
       "                      Certification.Address  \\\n",
       "1  e36d0270932c3b657e96b7b0278dfd85dc0fe743   \n",
       "\n",
       "                      Certification.Contact unit_of_measurement  \\\n",
       "1  03077a1c6bac60e6f514691634a7f6eb5c85aae8                   m   \n",
       "\n",
       "  altitude_low_meters altitude_high_meters  altitude_mean_meters  \n",
       "1              1488.0               1488.0                1488.0  \n",
       "\n",
       "[1 rows x 43 columns]"
      ]
     },
     "execution_count": 23,
     "metadata": {},
     "output_type": "execute_result"
    }
   ],
   "source": [
    "coffee_df.head(1)"
   ]
  },
  {
   "cell_type": "code",
   "execution_count": 24,
   "id": "67c4e5c2",
   "metadata": {},
   "outputs": [
    {
     "data": {
      "text/plain": [
       "1    Robusta\n",
       "2    Robusta\n",
       "3    Robusta\n",
       "4    Robusta\n",
       "5    Robusta\n",
       "Name: Species, dtype: object"
      ]
     },
     "execution_count": 24,
     "metadata": {},
     "output_type": "execute_result"
    }
   ],
   "source": [
    "coffee_df['Species'].head()"
   ]
  },
  {
   "cell_type": "code",
   "execution_count": 25,
   "id": "d922674f",
   "metadata": {},
   "outputs": [
    {
     "data": {
      "text/plain": [
       "pandas.core.series.Series"
      ]
     },
     "execution_count": 25,
     "metadata": {},
     "output_type": "execute_result"
    }
   ],
   "source": [
    "type(coffee_df['Species'])"
   ]
  },
  {
   "cell_type": "code",
   "execution_count": 26,
   "id": "91e86184",
   "metadata": {},
   "outputs": [
    {
     "data": {
      "text/plain": [
       "Index(['Species', 'Owner', 'Country.of.Origin', 'Farm.Name', 'Lot.Number',\n",
       "       'Mill', 'ICO.Number', 'Company', 'Altitude', 'Region', 'Producer',\n",
       "       'Number.of.Bags', 'Bag.Weight', 'In.Country.Partner', 'Harvest.Year',\n",
       "       'Grading.Date', 'Owner.1', 'Variety', 'Processing.Method',\n",
       "       'Fragrance...Aroma', 'Flavor', 'Aftertaste', 'Salt...Acid',\n",
       "       'Bitter...Sweet', 'Mouthfeel', 'Uniform.Cup', 'Clean.Cup', 'Balance',\n",
       "       'Cupper.Points', 'Total.Cup.Points', 'Moisture', 'Category.One.Defects',\n",
       "       'Quakers', 'Color', 'Category.Two.Defects', 'Expiration',\n",
       "       'Certification.Body', 'Certification.Address', 'Certification.Contact',\n",
       "       'unit_of_measurement', 'altitude_low_meters', 'altitude_high_meters',\n",
       "       'altitude_mean_meters'],\n",
       "      dtype='object')"
      ]
     },
     "execution_count": 26,
     "metadata": {},
     "output_type": "execute_result"
    }
   ],
   "source": [
    "coffee_df.columns"
   ]
  },
  {
   "cell_type": "code",
   "execution_count": 27,
   "id": "7bf355d1",
   "metadata": {},
   "outputs": [
    {
     "data": {
      "text/plain": [
       "1     300\n",
       "2     320\n",
       "3     300\n",
       "4     320\n",
       "5       1\n",
       "6     200\n",
       "7     320\n",
       "8     320\n",
       "9     320\n",
       "10    320\n",
       "11    320\n",
       "12    320\n",
       "13    100\n",
       "14      1\n",
       "15    320\n",
       "16    300\n",
       "17    140\n",
       "18      1\n",
       "19     20\n",
       "20      6\n",
       "21    100\n",
       "22    250\n",
       "23    100\n",
       "24      1\n",
       "25      1\n",
       "26      1\n",
       "27      1\n",
       "28      1\n",
       "Name: Number.of.Bags, dtype: int64"
      ]
     },
     "execution_count": 27,
     "metadata": {},
     "output_type": "execute_result"
    }
   ],
   "source": [
    "coffee_df['Number.of.Bags']"
   ]
  },
  {
   "cell_type": "code",
   "execution_count": 28,
   "id": "c931a0aa",
   "metadata": {},
   "outputs": [],
   "source": [
    "new_values = {0:'<100',1:'100-199',2:'200-299',3:'300+'}"
   ]
  },
  {
   "cell_type": "code",
   "execution_count": 29,
   "id": "88f065ec",
   "metadata": {},
   "outputs": [
    {
     "data": {
      "text/plain": [
       "['300+',\n",
       " '300+',\n",
       " '300+',\n",
       " '300+',\n",
       " '<100',\n",
       " '200-299',\n",
       " '300+',\n",
       " '300+',\n",
       " '300+',\n",
       " '300+',\n",
       " '300+',\n",
       " '300+',\n",
       " '100-199',\n",
       " '<100',\n",
       " '300+',\n",
       " '300+',\n",
       " '100-199',\n",
       " '<100',\n",
       " '<100',\n",
       " '<100',\n",
       " '100-199',\n",
       " '200-299',\n",
       " '100-199',\n",
       " '<100',\n",
       " '<100',\n",
       " '<100',\n",
       " '<100',\n",
       " '<100']"
      ]
     },
     "execution_count": 29,
     "metadata": {},
     "output_type": "execute_result"
    }
   ],
   "source": [
    "[new_values[int(num/100)] for num in coffee_df['Number.of.Bags']]"
   ]
  },
  {
   "cell_type": "code",
   "execution_count": 30,
   "id": "d7773fce",
   "metadata": {},
   "outputs": [
    {
     "data": {
      "text/plain": [
       "['300+',\n",
       " '300+',\n",
       " '300+',\n",
       " '300+',\n",
       " '<100',\n",
       " '200-299',\n",
       " '300+',\n",
       " '300+',\n",
       " '300+',\n",
       " '300+',\n",
       " '300+',\n",
       " '300+',\n",
       " '100-199',\n",
       " '<100',\n",
       " '300+',\n",
       " '300+',\n",
       " '100-199',\n",
       " '<100',\n",
       " '<100',\n",
       " '<100',\n",
       " '100-199',\n",
       " '200-299',\n",
       " '100-199',\n",
       " '<100',\n",
       " '<100',\n",
       " '<100',\n",
       " '<100',\n",
       " '<100']"
      ]
     },
     "execution_count": 30,
     "metadata": {},
     "output_type": "execute_result"
    }
   ],
   "source": [
    "bags_bin = lambda num: int(num/100)\n",
    "[new_values[bags_bin(num)] for num in coffee_df['Number.of.Bags']]"
   ]
  },
  {
   "cell_type": "code",
   "execution_count": 31,
   "id": "26948842",
   "metadata": {},
   "outputs": [
    {
     "data": {
      "text/plain": [
       "function"
      ]
     },
     "execution_count": 31,
     "metadata": {},
     "output_type": "execute_result"
    }
   ],
   "source": [
    "type(pd.read_csv)"
   ]
  },
  {
   "cell_type": "code",
   "execution_count": 32,
   "id": "544915db",
   "metadata": {},
   "outputs": [
    {
     "data": {
      "text/plain": [
       "function"
      ]
     },
     "execution_count": 32,
     "metadata": {},
     "output_type": "execute_result"
    }
   ],
   "source": [
    "type(bags_bin)"
   ]
  },
  {
   "cell_type": "markdown",
   "id": "543dc93e",
   "metadata": {},
   "source": [
    "## Importing locally\n",
    "\n",
    "If I make a file in the same folder as my notebook called `example.py`\n",
    "and then put"
   ]
  },
  {
   "cell_type": "code",
   "execution_count": 33,
   "id": "0ee04a97",
   "metadata": {
    "tags": [
     "hide-input"
    ]
   },
   "outputs": [
    {
     "name": "stdout",
     "output_type": "stream",
     "text": [
      "name = 'sarah'"
     ]
    }
   ],
   "source": [
    "%%bash\n",
    "cat example.py"
   ]
  },
  {
   "cell_type": "markdown",
   "id": "dc4be613",
   "metadata": {},
   "source": [
    "in the file, we can use that file like:"
   ]
  },
  {
   "cell_type": "code",
   "execution_count": 34,
   "id": "abfc5fd9",
   "metadata": {},
   "outputs": [],
   "source": [
    "from example import name"
   ]
  },
  {
   "cell_type": "code",
   "execution_count": 35,
   "id": "673b23c1",
   "metadata": {},
   "outputs": [
    {
     "data": {
      "text/plain": [
       "'sarah'"
      ]
     },
     "execution_count": 35,
     "metadata": {},
     "output_type": "execute_result"
    }
   ],
   "source": [
    "name"
   ]
  },
  {
   "cell_type": "code",
   "execution_count": 36,
   "id": "c933b86a",
   "metadata": {},
   "outputs": [],
   "source": [
    "import example"
   ]
  },
  {
   "cell_type": "code",
   "execution_count": 37,
   "id": "5139708e",
   "metadata": {},
   "outputs": [
    {
     "data": {
      "text/plain": [
       "'sarah'"
      ]
     },
     "execution_count": 37,
     "metadata": {},
     "output_type": "execute_result"
    }
   ],
   "source": [
    "example.name"
   ]
  },
  {
   "cell_type": "code",
   "execution_count": null,
   "id": "900583ee",
   "metadata": {},
   "outputs": [],
   "source": []
  },
  {
   "cell_type": "markdown",
   "id": "5c9aec77",
   "metadata": {},
   "source": [
    "## Questions After Class\n",
    "\n",
    "### why does casting the int over the (num/100) give you the right number? Is it because of floor division?\n",
    "\n",
    "First let's look at an interim value, lets pick a value for `num`"
   ]
  },
  {
   "cell_type": "code",
   "execution_count": 38,
   "id": "b6525f58",
   "metadata": {},
   "outputs": [],
   "source": [
    "num = 307"
   ]
  },
  {
   "cell_type": "markdown",
   "id": "95c9c6b9",
   "metadata": {},
   "source": [
    "Then do the calculation without casting to int"
   ]
  },
  {
   "cell_type": "code",
   "execution_count": 39,
   "id": "995213c5",
   "metadata": {},
   "outputs": [
    {
     "data": {
      "text/plain": [
       "3.07"
      ]
     },
     "execution_count": 39,
     "metadata": {},
     "output_type": "execute_result"
    }
   ],
   "source": [
    "num/100"
   ]
  },
  {
   "cell_type": "markdown",
   "id": "f86b77e5",
   "metadata": {},
   "source": [
    "Remember that `int` type is an integer or whole number, no fraction.  So, casting drops the decimal part. \n",
    "\n",
    "\n",
    "###  How would adding 2 DataFrametogether of separate types affect the type command?\n",
    "\n",
    "It depends what \"add\" means.  If addition it might error, but if it worked, then it would still be a DataFrame. If stacking with `pd.concat` it would also be a DatFrame. \n",
    "\n",
    "If you make them into a list, then the would be a list. \n",
    "\n",
    "\n",
    "\n",
    "### what keys to use in the dictionaries?\n",
    "In the assignment the instruction say\n",
    "\n",
    "### how to save as a local csv file?\n",
    "\n",
    "[pandas.DataFrame.to_csv](https://pandas.pydata.org/docs/reference/api/pandas.DataFrame.to_csv.html)\n",
    "\n",
    "### how to create a Dataframe?\n",
    "\n",
    "Use the [constructor](https://pandas.pydata.org/docs/reference/api/pandas.DataFrame.html)\n",
    "\n",
    "\n",
    "### how to read using relative path?\n",
    "\n",
    "A relative path can work just like a URL. [read about them here](https://www.redhat.com/sysadmin/linux-path-absolute-relativehttps://www.redhat.com/sysadmin/linux-path-absolute-relative)\n",
    "\n",
    "### I would like to know about other common forms of data files.\n",
    "\n",
    "The pandas documentation's [I/O](https://pandas.pydata.org/docs/user_guide/io.html) page is where I recommend starting\n",
    "\n",
    "## What other libraries do we end up using?\n",
    "\n",
    "Next week we will use `seaborn` for plotting. Later in the semester we will use `sklearn` for machine learning.  We will use a few other libaries for a few features, but these three are the main ones."
   ]
  }
 ],
 "metadata": {
  "jupytext": {
   "text_representation": {
    "extension": ".md",
    "format_name": "myst",
    "format_version": 0.13,
    "jupytext_version": "1.14.1"
   }
  },
  "kernelspec": {
   "display_name": "Python 3",
   "language": "python",
   "name": "python3"
  },
  "language_info": {
   "codemirror_mode": {
    "name": "ipython",
    "version": 3
   },
   "file_extension": ".py",
   "mimetype": "text/x-python",
   "name": "python",
   "nbconvert_exporter": "python",
   "pygments_lexer": "ipython3",
   "version": "3.8.16"
  },
  "source_map": [
   12,
   17,
   24,
   28,
   32,
   36,
   40,
   44,
   48,
   52,
   54,
   58,
   62,
   64,
   67,
   71,
   75,
   79,
   83,
   87,
   89,
   93,
   95,
   99,
   103,
   107,
   111,
   115,
   119,
   123,
   127,
   131,
   135,
   139,
   143,
   148,
   152,
   154,
   160,
   164,
   167,
   171,
   175,
   179,
   183,
   185,
   192,
   194,
   198,
   200
  ]
 },
 "nbformat": 4,
 "nbformat_minor": 5
}